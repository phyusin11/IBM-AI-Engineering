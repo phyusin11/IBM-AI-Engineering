{
 "cells": [
  {
   "cell_type": "code",
   "execution_count": 1,
   "metadata": {},
   "outputs": [
    {
     "data": {
      "text/plain": [
       "<torch._C.Generator at 0x1d65ac035b0>"
      ]
     },
     "execution_count": 1,
     "metadata": {},
     "output_type": "execute_result"
    }
   ],
   "source": [
    "import torch\n",
    "from torch.utils.data import Dataset\n",
    "torch.manual_seed(1)"
   ]
  },
  {
   "cell_type": "code",
   "execution_count": 4,
   "metadata": {},
   "outputs": [],
   "source": [
    "#define class for dataset\n",
    "\n",
    "class toy_set(Dataset):\n",
    "    \n",
    "    #Constructor with default values\n",
    "    def _init_(self,length=100,transform=None):\n",
    "        self.len= length\n",
    "        self.x = 2 * torch.ones(length,2)\n",
    "        self.y = torch.ones(length,1)\n",
    "        self.transform= transform\n",
    "\n",
    "    #Getter\n",
    "\n",
    "    def __getitem__(self, index):\n",
    "        sample = self.x[index], self.y[index]\n",
    "        if self.transform:\n",
    "            sample = self.transform(sample)     \n",
    "        return sample\n",
    "    \n",
    "    #Get Length\n",
    "    def _len_(self):\n",
    "        return self.len"
   ]
  },
  {
   "cell_type": "code",
   "execution_count": 8,
   "metadata": {},
   "outputs": [
    {
     "name": "stdout",
     "output_type": "stream",
     "text": [
      "Our toy_set object:  <__main__.toy_set object at 0x000001D65FF877D0>\n",
      "Value on index 0 of our toy_set object:  (tensor([2., 2.]), tensor([1.]))\n",
      "Our toy_set length:  100\n"
     ]
    }
   ],
   "source": [
    "# Create Dataset Object. Find out the value on index 1. Find out the length of Dataset Object.\n",
    "\n",
    "our_dataset = toy_set()\n",
    "print(\"Our toy_set object: \", our_dataset)\n",
    "print(\"Value on index 0 of our toy_set object: \", our_dataset[0])\n",
    "print(\"Our toy_set length: \", len(our_dataset))"
   ]
  },
  {
   "cell_type": "code",
   "execution_count": 9,
   "metadata": {},
   "outputs": [
    {
     "name": "stdout",
     "output_type": "stream",
     "text": [
      "index:  0 ; x:  tensor([2., 2.]) ; y:  tensor([1.])\n",
      "index:  1 ; x:  tensor([2., 2.]) ; y:  tensor([1.])\n",
      "index:  2 ; x:  tensor([2., 2.]) ; y:  tensor([1.])\n"
     ]
    }
   ],
   "source": [
    "for i in range(3):\n",
    "    x,y = our_dataset[i]\n",
    "    print('index: ',i, '; x: ', x,'; y: ',y)"
   ]
  },
  {
   "cell_type": "code",
   "execution_count": 10,
   "metadata": {},
   "outputs": [
    {
     "name": "stdout",
     "output_type": "stream",
     "text": [
      "x: tensor([2., 2.]) y: tensor([1.])\n",
      "x: tensor([2., 2.]) y: tensor([1.])\n",
      "x: tensor([2., 2.]) y: tensor([1.])\n",
      "x: tensor([2., 2.]) y: tensor([1.])\n",
      "x: tensor([2., 2.]) y: tensor([1.])\n",
      "x: tensor([2., 2.]) y: tensor([1.])\n",
      "x: tensor([2., 2.]) y: tensor([1.])\n",
      "x: tensor([2., 2.]) y: tensor([1.])\n",
      "x: tensor([2., 2.]) y: tensor([1.])\n",
      "x: tensor([2., 2.]) y: tensor([1.])\n",
      "x: tensor([2., 2.]) y: tensor([1.])\n",
      "x: tensor([2., 2.]) y: tensor([1.])\n",
      "x: tensor([2., 2.]) y: tensor([1.])\n",
      "x: tensor([2., 2.]) y: tensor([1.])\n",
      "x: tensor([2., 2.]) y: tensor([1.])\n",
      "x: tensor([2., 2.]) y: tensor([1.])\n",
      "x: tensor([2., 2.]) y: tensor([1.])\n",
      "x: tensor([2., 2.]) y: tensor([1.])\n",
      "x: tensor([2., 2.]) y: tensor([1.])\n",
      "x: tensor([2., 2.]) y: tensor([1.])\n",
      "x: tensor([2., 2.]) y: tensor([1.])\n",
      "x: tensor([2., 2.]) y: tensor([1.])\n",
      "x: tensor([2., 2.]) y: tensor([1.])\n",
      "x: tensor([2., 2.]) y: tensor([1.])\n",
      "x: tensor([2., 2.]) y: tensor([1.])\n",
      "x: tensor([2., 2.]) y: tensor([1.])\n",
      "x: tensor([2., 2.]) y: tensor([1.])\n",
      "x: tensor([2., 2.]) y: tensor([1.])\n",
      "x: tensor([2., 2.]) y: tensor([1.])\n",
      "x: tensor([2., 2.]) y: tensor([1.])\n",
      "x: tensor([2., 2.]) y: tensor([1.])\n",
      "x: tensor([2., 2.]) y: tensor([1.])\n",
      "x: tensor([2., 2.]) y: tensor([1.])\n",
      "x: tensor([2., 2.]) y: tensor([1.])\n",
      "x: tensor([2., 2.]) y: tensor([1.])\n",
      "x: tensor([2., 2.]) y: tensor([1.])\n",
      "x: tensor([2., 2.]) y: tensor([1.])\n",
      "x: tensor([2., 2.]) y: tensor([1.])\n",
      "x: tensor([2., 2.]) y: tensor([1.])\n",
      "x: tensor([2., 2.]) y: tensor([1.])\n",
      "x: tensor([2., 2.]) y: tensor([1.])\n",
      "x: tensor([2., 2.]) y: tensor([1.])\n",
      "x: tensor([2., 2.]) y: tensor([1.])\n",
      "x: tensor([2., 2.]) y: tensor([1.])\n",
      "x: tensor([2., 2.]) y: tensor([1.])\n",
      "x: tensor([2., 2.]) y: tensor([1.])\n",
      "x: tensor([2., 2.]) y: tensor([1.])\n",
      "x: tensor([2., 2.]) y: tensor([1.])\n",
      "x: tensor([2., 2.]) y: tensor([1.])\n",
      "x: tensor([2., 2.]) y: tensor([1.])\n",
      "x: tensor([2., 2.]) y: tensor([1.])\n",
      "x: tensor([2., 2.]) y: tensor([1.])\n",
      "x: tensor([2., 2.]) y: tensor([1.])\n",
      "x: tensor([2., 2.]) y: tensor([1.])\n",
      "x: tensor([2., 2.]) y: tensor([1.])\n",
      "x: tensor([2., 2.]) y: tensor([1.])\n",
      "x: tensor([2., 2.]) y: tensor([1.])\n",
      "x: tensor([2., 2.]) y: tensor([1.])\n",
      "x: tensor([2., 2.]) y: tensor([1.])\n",
      "x: tensor([2., 2.]) y: tensor([1.])\n",
      "x: tensor([2., 2.]) y: tensor([1.])\n",
      "x: tensor([2., 2.]) y: tensor([1.])\n",
      "x: tensor([2., 2.]) y: tensor([1.])\n",
      "x: tensor([2., 2.]) y: tensor([1.])\n",
      "x: tensor([2., 2.]) y: tensor([1.])\n",
      "x: tensor([2., 2.]) y: tensor([1.])\n",
      "x: tensor([2., 2.]) y: tensor([1.])\n",
      "x: tensor([2., 2.]) y: tensor([1.])\n",
      "x: tensor([2., 2.]) y: tensor([1.])\n",
      "x: tensor([2., 2.]) y: tensor([1.])\n",
      "x: tensor([2., 2.]) y: tensor([1.])\n",
      "x: tensor([2., 2.]) y: tensor([1.])\n",
      "x: tensor([2., 2.]) y: tensor([1.])\n",
      "x: tensor([2., 2.]) y: tensor([1.])\n",
      "x: tensor([2., 2.]) y: tensor([1.])\n",
      "x: tensor([2., 2.]) y: tensor([1.])\n",
      "x: tensor([2., 2.]) y: tensor([1.])\n",
      "x: tensor([2., 2.]) y: tensor([1.])\n",
      "x: tensor([2., 2.]) y: tensor([1.])\n",
      "x: tensor([2., 2.]) y: tensor([1.])\n",
      "x: tensor([2., 2.]) y: tensor([1.])\n",
      "x: tensor([2., 2.]) y: tensor([1.])\n",
      "x: tensor([2., 2.]) y: tensor([1.])\n",
      "x: tensor([2., 2.]) y: tensor([1.])\n",
      "x: tensor([2., 2.]) y: tensor([1.])\n",
      "x: tensor([2., 2.]) y: tensor([1.])\n",
      "x: tensor([2., 2.]) y: tensor([1.])\n",
      "x: tensor([2., 2.]) y: tensor([1.])\n",
      "x: tensor([2., 2.]) y: tensor([1.])\n",
      "x: tensor([2., 2.]) y: tensor([1.])\n",
      "x: tensor([2., 2.]) y: tensor([1.])\n",
      "x: tensor([2., 2.]) y: tensor([1.])\n",
      "x: tensor([2., 2.]) y: tensor([1.])\n",
      "x: tensor([2., 2.]) y: tensor([1.])\n",
      "x: tensor([2., 2.]) y: tensor([1.])\n",
      "x: tensor([2., 2.]) y: tensor([1.])\n",
      "x: tensor([2., 2.]) y: tensor([1.])\n",
      "x: tensor([2., 2.]) y: tensor([1.])\n",
      "x: tensor([2., 2.]) y: tensor([1.])\n",
      "x: tensor([2., 2.]) y: tensor([1.])\n"
     ]
    }
   ],
   "source": [
    "for x,y in our_dataset:\n",
    "    print('x:',x,'y:',y)"
   ]
  },
  {
   "cell_type": "code",
   "execution_count": 11,
   "metadata": {},
   "outputs": [],
   "source": [
    "#Create transform class add_multiply\n",
    "\n",
    "from typing import Any\n",
    "\n",
    "\n",
    "class add_multiply(object):\n",
    "\n",
    "    #Constructor\n",
    "    def __init__(self, addx =1 , muly =2):\n",
    "        self.addx = addx\n",
    "        self.muly = muly\n",
    "\n",
    "    #Executor\n",
    "    def __call__(self, sample):\n",
    "        x = sample[0]\n",
    "        y = sample[1]\n",
    "        x = x + self.addx\n",
    "        y = y * self.muly\n",
    "        sample= x,y\n",
    "        return sample"
   ]
  },
  {
   "cell_type": "code",
   "execution_count": 16,
   "metadata": {},
   "outputs": [],
   "source": [
    "a_m = add_multiply()\n",
    "data_set = toy_set()"
   ]
  },
  {
   "cell_type": "code",
   "execution_count": 17,
   "metadata": {},
   "outputs": [
    {
     "name": "stdout",
     "output_type": "stream",
     "text": [
      "Index:  0 Original x:  tensor([2., 2.]) Original y:  tensor([1.])\n",
      "Index:  0 Transformed x_: tensor([3., 3.]) Transformed y_: tensor([2.])\n",
      "Index:  1 Original x:  tensor([2., 2.]) Original y:  tensor([1.])\n",
      "Index:  1 Transformed x_: tensor([3., 3.]) Transformed y_: tensor([2.])\n",
      "Index:  2 Original x:  tensor([2., 2.]) Original y:  tensor([1.])\n",
      "Index:  2 Transformed x_: tensor([3., 3.]) Transformed y_: tensor([2.])\n",
      "Index:  3 Original x:  tensor([2., 2.]) Original y:  tensor([1.])\n",
      "Index:  3 Transformed x_: tensor([3., 3.]) Transformed y_: tensor([2.])\n",
      "Index:  4 Original x:  tensor([2., 2.]) Original y:  tensor([1.])\n",
      "Index:  4 Transformed x_: tensor([3., 3.]) Transformed y_: tensor([2.])\n",
      "Index:  5 Original x:  tensor([2., 2.]) Original y:  tensor([1.])\n",
      "Index:  5 Transformed x_: tensor([3., 3.]) Transformed y_: tensor([2.])\n",
      "Index:  6 Original x:  tensor([2., 2.]) Original y:  tensor([1.])\n",
      "Index:  6 Transformed x_: tensor([3., 3.]) Transformed y_: tensor([2.])\n",
      "Index:  7 Original x:  tensor([2., 2.]) Original y:  tensor([1.])\n",
      "Index:  7 Transformed x_: tensor([3., 3.]) Transformed y_: tensor([2.])\n",
      "Index:  8 Original x:  tensor([2., 2.]) Original y:  tensor([1.])\n",
      "Index:  8 Transformed x_: tensor([3., 3.]) Transformed y_: tensor([2.])\n",
      "Index:  9 Original x:  tensor([2., 2.]) Original y:  tensor([1.])\n",
      "Index:  9 Transformed x_: tensor([3., 3.]) Transformed y_: tensor([2.])\n"
     ]
    }
   ],
   "source": [
    "# Use loop to print out first 10 elements in dataset\n",
    "\n",
    "for i in range(10):\n",
    "    x, y = data_set[i]\n",
    "    print('Index: ', i, 'Original x: ', x, 'Original y: ', y)\n",
    "    x_, y_ = a_m(data_set[i])\n",
    "    print('Index: ', i, 'Transformed x_:', x_, 'Transformed y_:', y_)"
   ]
  },
  {
   "cell_type": "code",
   "execution_count": 18,
   "metadata": {},
   "outputs": [],
   "source": [
    "# Create a new data_set object with add_mult object as transform\n",
    "\n",
    "cust_data_set = toy_set(transform = a_m)"
   ]
  },
  {
   "cell_type": "code",
   "execution_count": 19,
   "metadata": {},
   "outputs": [
    {
     "name": "stdout",
     "output_type": "stream",
     "text": [
      "Index:  0 Original x:  tensor([2., 2.]) Original y:  tensor([1.])\n",
      "Index:  0 Transformed x_: tensor([3., 3.]) Transformed y_: tensor([2.])\n",
      "Index:  1 Original x:  tensor([2., 2.]) Original y:  tensor([1.])\n",
      "Index:  1 Transformed x_: tensor([3., 3.]) Transformed y_: tensor([2.])\n",
      "Index:  2 Original x:  tensor([2., 2.]) Original y:  tensor([1.])\n",
      "Index:  2 Transformed x_: tensor([3., 3.]) Transformed y_: tensor([2.])\n",
      "Index:  3 Original x:  tensor([2., 2.]) Original y:  tensor([1.])\n",
      "Index:  3 Transformed x_: tensor([3., 3.]) Transformed y_: tensor([2.])\n",
      "Index:  4 Original x:  tensor([2., 2.]) Original y:  tensor([1.])\n",
      "Index:  4 Transformed x_: tensor([3., 3.]) Transformed y_: tensor([2.])\n",
      "Index:  5 Original x:  tensor([2., 2.]) Original y:  tensor([1.])\n",
      "Index:  5 Transformed x_: tensor([3., 3.]) Transformed y_: tensor([2.])\n",
      "Index:  6 Original x:  tensor([2., 2.]) Original y:  tensor([1.])\n",
      "Index:  6 Transformed x_: tensor([3., 3.]) Transformed y_: tensor([2.])\n",
      "Index:  7 Original x:  tensor([2., 2.]) Original y:  tensor([1.])\n",
      "Index:  7 Transformed x_: tensor([3., 3.]) Transformed y_: tensor([2.])\n",
      "Index:  8 Original x:  tensor([2., 2.]) Original y:  tensor([1.])\n",
      "Index:  8 Transformed x_: tensor([3., 3.]) Transformed y_: tensor([2.])\n",
      "Index:  9 Original x:  tensor([2., 2.]) Original y:  tensor([1.])\n",
      "Index:  9 Transformed x_: tensor([3., 3.]) Transformed y_: tensor([2.])\n"
     ]
    }
   ],
   "source": [
    "# Use loop to print out first 10 elements in dataset\n",
    "\n",
    "for i in range(10):\n",
    "    x, y = data_set[i]\n",
    "    print('Index: ', i, 'Original x: ', x, 'Original y: ', y)\n",
    "    x_, y_ = cust_data_set[i]\n",
    "    print('Index: ', i, 'Transformed x_:', x_, 'Transformed y_:', y_)"
   ]
  }
 ],
 "metadata": {
  "kernelspec": {
   "display_name": "Python 3",
   "language": "python",
   "name": "python3"
  },
  "language_info": {
   "codemirror_mode": {
    "name": "ipython",
    "version": 3
   },
   "file_extension": ".py",
   "mimetype": "text/x-python",
   "name": "python",
   "nbconvert_exporter": "python",
   "pygments_lexer": "ipython3",
   "version": "3.11.3"
  }
 },
 "nbformat": 4,
 "nbformat_minor": 2
}
