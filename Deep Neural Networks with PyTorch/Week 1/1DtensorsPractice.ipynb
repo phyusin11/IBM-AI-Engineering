{
 "cells": [
  {
   "cell_type": "code",
   "execution_count": 43,
   "metadata": {},
   "outputs": [],
   "source": [
    "#import libries\n",
    "import torch\n",
    "import numpy as np\n",
    "import pandas as pd\n",
    "\n",
    "%matplotlib inline\n",
    "import matplotlib.pyplot as plt"
   ]
  },
  {
   "cell_type": "code",
   "execution_count": 44,
   "metadata": {},
   "outputs": [],
   "source": [
    "#plotting diagram\n",
    "def plotVec(vectors):\n",
    "    ax = plt.axes()\n",
    "    for vec in vectors:\n",
    "        ax.arrow(0,0, *vec[\"vector\"], head_width = 0.05, color = vec[\"color\"], head_length = 0.1)\n",
    "        plt.text(*(vec[\"vector\"] + 0.1), vec[\"name\"])\n",
    "    plt.ylim(-2,2)\n",
    "    plt.xlim(-2,2)"
   ]
  },
  {
   "cell_type": "code",
   "execution_count": 45,
   "metadata": {},
   "outputs": [
    {
     "name": "stdout",
     "output_type": "stream",
     "text": [
      "The dtype of tensor object after converting:  torch.int64\n",
      "The type of tensor object after converting:  torch.LongTensor\n"
     ]
    }
   ],
   "source": [
    "#convert integer list to tensor\n",
    "\n",
    "int_to_tensor = torch.tensor([0,1,2,3,4,5])\n",
    "print(\"The dtype of tensor object after converting: \",int_to_tensor.dtype)\n",
    "print(\"The type of tensor object after converting: \",int_to_tensor.type())"
   ]
  },
  {
   "cell_type": "code",
   "execution_count": 46,
   "metadata": {},
   "outputs": [
    {
     "data": {
      "text/plain": [
       "torch.Tensor"
      ]
     },
     "execution_count": 46,
     "metadata": {},
     "output_type": "execute_result"
    }
   ],
   "source": [
    "type(int_to_tensor)"
   ]
  },
  {
   "cell_type": "code",
   "execution_count": 47,
   "metadata": {},
   "outputs": [
    {
     "name": "stdout",
     "output_type": "stream",
     "text": [
      "The dtype of tensor object after converting:  torch.float32\n",
      "The type of tensor object after converting:  torch.FloatTensor\n"
     ]
    }
   ],
   "source": [
    "#convert float list to tensor\n",
    "\n",
    "float_to_tensor = torch.tensor([0.0,1.1,2.2,3.3,4.4,5.5])\n",
    "print(\"The dtype of tensor object after converting: \",float_to_tensor.dtype)\n",
    "print(\"The type of tensor object after converting: \",float_to_tensor.type())"
   ]
  },
  {
   "cell_type": "code",
   "execution_count": 48,
   "metadata": {},
   "outputs": [
    {
     "name": "stdout",
     "output_type": "stream",
     "text": [
      "The dtype of tensor object after converting:  torch.int64\n",
      "The type of tensor object after converting:  torch.LongTensor\n"
     ]
    }
   ],
   "source": [
    "#convert float list to float tensor\n",
    "\n",
    "float_list = [0.0,1.1,2.2,3.3,4.4,5.5]\n",
    "float_int_tensor = torch.tensor(float_list,dtype=torch.int64)\n",
    "print(\"The dtype of tensor object after converting: \",float_int_tensor.dtype)\n",
    "print(\"The type of tensor object after converting: \",float_int_tensor.type())"
   ]
  },
  {
   "cell_type": "code",
   "execution_count": 49,
   "metadata": {},
   "outputs": [
    {
     "name": "stdout",
     "output_type": "stream",
     "text": [
      "The type is:  torch.FloatTensor\n"
     ]
    }
   ],
   "source": [
    "#convert integer list to float tensor\n",
    "\n",
    "new_float_tensor = torch.FloatTensor([0,1,2,3,4,5])\n",
    "new_float_tensor.type()\n",
    "print(\"The type is: \",new_float_tensor.type())"
   ]
  },
  {
   "cell_type": "code",
   "execution_count": 50,
   "metadata": {},
   "outputs": [
    {
     "name": "stdout",
     "output_type": "stream",
     "text": [
      "The type of new_float_tensor:  torch.FloatTensor\n"
     ]
    }
   ],
   "source": [
    "#another method to convert integer list to float tensor\n",
    "\n",
    "old_int_tensor = torch.tensor([0,1,2,3,4,5])\n",
    "new_float_tensor= old_int_tensor.type(torch.FloatTensor)\n",
    "print(\"The type of new_float_tensor: \", new_float_tensor.type())"
   ]
  },
  {
   "cell_type": "code",
   "execution_count": 51,
   "metadata": {},
   "outputs": [
    {
     "name": "stdout",
     "output_type": "stream",
     "text": [
      "The size of new_float_tensor:  torch.Size([6])\n",
      "The dimension of the new_float_tensor:  1\n"
     ]
    }
   ],
   "source": [
    "#size and dimension of tensor object\n",
    "\n",
    "print(\"The size of new_float_tensor: \", new_float_tensor.size())\n",
    "print(\"The dimension of the new_float_tensor: \", new_float_tensor.ndimension())"
   ]
  },
  {
   "cell_type": "code",
   "execution_count": 52,
   "metadata": {},
   "outputs": [
    {
     "name": "stdout",
     "output_type": "stream",
     "text": [
      "Original size:  tensor([0., 1., 2., 3., 4., 5.])\n",
      "Size after view method:  tensor([[0.],\n",
      "        [1.],\n",
      "        [2.],\n",
      "        [3.],\n",
      "        [4.],\n",
      "        [5.]])\n"
     ]
    }
   ],
   "source": [
    "#reshaping tensor object\n",
    "\n",
    "twoD_float_tensor = new_float_tensor.view(6,1)\n",
    "print(\"Original size: \", new_float_tensor)\n",
    "print(\"Size after view method: \", twoD_float_tensor)"
   ]
  },
  {
   "cell_type": "code",
   "execution_count": 53,
   "metadata": {},
   "outputs": [
    {
     "name": "stdout",
     "output_type": "stream",
     "text": [
      "Original size:  tensor([0., 1., 2., 3., 4., 5.])\n",
      "Size after view method:  tensor([[0.],\n",
      "        [1.],\n",
      "        [2.],\n",
      "        [3.],\n",
      "        [4.],\n",
      "        [5.]])\n"
     ]
    }
   ],
   "source": [
    "#the use of -1 in view method\n",
    "\n",
    "twoD_float_tensor= new_float_tensor.view(-1,1)\n",
    "print(\"Original size: \", new_float_tensor)\n",
    "print(\"Size after view method: \", twoD_float_tensor)"
   ]
  },
  {
   "cell_type": "code",
   "execution_count": 54,
   "metadata": {},
   "outputs": [
    {
     "name": "stdout",
     "output_type": "stream",
     "text": [
      "The dtype:  torch.float64\n",
      "The type:  torch.DoubleTensor\n"
     ]
    }
   ],
   "source": [
    "#convert numpy array to tensor\n",
    "\n",
    "numpy_array = np.array([1.1,2.2,3.3,4.4,5.5,6.6])\n",
    "new_tensor = torch.from_numpy(numpy_array)\n",
    "\n",
    "print(\"The dtype: \", new_tensor.dtype)\n",
    "print(\"The type: \", new_tensor.type())"
   ]
  },
  {
   "cell_type": "code",
   "execution_count": 55,
   "metadata": {},
   "outputs": [
    {
     "name": "stdout",
     "output_type": "stream",
     "text": [
      "The numpy array from tensor:  [1.1 2.2 3.3 4.4 5.5 6.6]\n",
      "The dtype:  float64\n"
     ]
    }
   ],
   "source": [
    "#convert tensor to numpy array\n",
    "\n",
    "back_to_numpy = new_tensor.numpy()\n",
    "print(\"The numpy array from tensor: \",back_to_numpy)\n",
    "print(\"The dtype: \", back_to_numpy.dtype)"
   ]
  },
  {
   "cell_type": "code",
   "execution_count": 56,
   "metadata": {},
   "outputs": [
    {
     "name": "stdout",
     "output_type": "stream",
     "text": [
      "The new tensor points to numpy_array :  tensor([0., 0., 0., 0., 0., 0.], dtype=torch.float64)\n",
      "and back to numpy array points to the tensor:  [0. 0. 0. 0. 0. 0.]\n"
     ]
    }
   ],
   "source": [
    "#set all elements in numpy array to zero\n",
    "\n",
    "numpy_array[:]=0\n",
    "print(\"The new tensor points to numpy_array : \", new_tensor)\n",
    "print(\"and back to numpy array points to the tensor: \", back_to_numpy)"
   ]
  },
  {
   "cell_type": "code",
   "execution_count": 57,
   "metadata": {},
   "outputs": [
    {
     "name": "stdout",
     "output_type": "stream",
     "text": [
      "The new tensor from panda series:  tensor([1.1000, 2.0000, 3.3000, 4.0000, 5.5000], dtype=torch.float64)\n",
      "The dtype:  torch.float64\n",
      "The type:  torch.DoubleTensor\n"
     ]
    }
   ],
   "source": [
    "#convert panda series to tensor\n",
    "\n",
    "panda_series = pd.Series([1.1 , 2 , 3.3 , 4 , 5.5])\n",
    "new_tensor = torch.from_numpy(panda_series.values)\n",
    "print(\"The new tensor from panda series: \",new_tensor)\n",
    "print(\"The dtype: \", new_tensor.dtype)\n",
    "print(\"The type: \", new_tensor.type())\n"
   ]
  },
  {
   "cell_type": "code",
   "execution_count": 58,
   "metadata": {},
   "outputs": [
    {
     "name": "stdout",
     "output_type": "stream",
     "text": [
      "The first value is  1 which is given by  tensor(1)\n",
      "The second value is  6 which is given by  tensor(6)\n",
      "The third value is  9 which is given by  tensor(9)\n"
     ]
    }
   ],
   "source": [
    "this_tensor=torch.tensor([1, 6,9,2,5]) \n",
    "\n",
    "print(\"The first value is \",this_tensor[0].item(), \"which is given by \",this_tensor[0])\n",
    "print(\"The second value is \",this_tensor[1].item(), \"which is given by \",this_tensor[1])\n",
    "print(\"The third value is \",this_tensor[2].item(), \"which is given by \",this_tensor[2])"
   ]
  },
  {
   "cell_type": "code",
   "execution_count": 59,
   "metadata": {},
   "outputs": [
    {
     "name": "stdout",
     "output_type": "stream",
     "text": [
      "Tensor:  tensor([1, 6, 9, 2, 5]) \n",
      "List:  [1, 6, 9, 2, 5]\n"
     ]
    }
   ],
   "source": [
    "#use tolist to return a list\n",
    "\n",
    "torch_to_list = this_tensor.tolist()\n",
    "print('Tensor: ',this_tensor,\"\\nList: \", torch_to_list)"
   ]
  },
  {
   "cell_type": "markdown",
   "metadata": {},
   "source": [
    "## Practice Section"
   ]
  },
  {
   "cell_type": "code",
   "execution_count": 60,
   "metadata": {},
   "outputs": [
    {
     "name": "stdout",
     "output_type": "stream",
     "text": [
      "Printing 1x5 tensor:  tensor([[2, 4, 6, 7, 9]])\n"
     ]
    }
   ],
   "source": [
    "my_tensor = torch.tensor([2,4,6,7,9])\n",
    "print(\"Printing 1x5 tensor: \",my_tensor.view(1,5))"
   ]
  },
  {
   "cell_type": "markdown",
   "metadata": {},
   "source": [
    "## Indexing and Slicing"
   ]
  },
  {
   "cell_type": "code",
   "execution_count": 61,
   "metadata": {},
   "outputs": [
    {
     "name": "stdout",
     "output_type": "stream",
     "text": [
      "The value on index 0: tensor(3)\n",
      "The value on index 1: tensor(5)\n",
      "The value on index 2: tensor(7)\n",
      "The value on index 3: tensor(8)\n",
      "The value on index 4: tensor(9)\n"
     ]
    }
   ],
   "source": [
    "index_tensor = torch.tensor([3, 5, 7, 8, 9])\n",
    "print(\"The value on index 0:\",index_tensor[0])\n",
    "print(\"The value on index 1:\",index_tensor[1])\n",
    "print(\"The value on index 2:\",index_tensor[2])\n",
    "print(\"The value on index 3:\",index_tensor[3])\n",
    "print(\"The value on index 4:\",index_tensor[4])"
   ]
  },
  {
   "cell_type": "markdown",
   "metadata": {},
   "source": [
    "<img src=\"https://s3-api.us-geo.objectstorage.softlayer.net/cf-courses-data/CognitiveClass/DL0110EN/notebook_images%20/chapter%201/idex_1.png\" width=\"500\" alt=\"Python Index\">\n"
   ]
  },
  {
   "cell_type": "code",
   "execution_count": 62,
   "metadata": {},
   "outputs": [
    {
     "name": "stdout",
     "output_type": "stream",
     "text": [
      "Initial value on index 0: tensor(2)\n",
      "Modified value on index 0: tensor([250,   4,  44,   6,  76,  13])\n"
     ]
    }
   ],
   "source": [
    "#change value of index\n",
    "\n",
    "tensor_sample= torch.tensor([2,4,44,6,76,13])\n",
    "\n",
    "print(\"Initial value on index 0:\", tensor_sample[0])\n",
    "tensor_sample[0]= 250\n",
    "print(\"Modified value on index 0:\", tensor_sample)"
   ]
  },
  {
   "cell_type": "code",
   "execution_count": 63,
   "metadata": {},
   "outputs": [
    {
     "name": "stdout",
     "output_type": "stream",
     "text": [
      "Original tensor:  tensor([250,   4,  44,   6,  76,  13])\n",
      "The subset of original:  tensor([ 4, 44,  6, 76])\n"
     ]
    }
   ],
   "source": [
    "#Slicing\n",
    "\n",
    "subset_tensor_sample = tensor_sample[1:5]\n",
    "print(\"Original tensor: \",tensor_sample)\n",
    "print(\"The subset of original: \", subset_tensor_sample)"
   ]
  },
  {
   "cell_type": "code",
   "execution_count": 64,
   "metadata": {},
   "outputs": [
    {
     "name": "stdout",
     "output_type": "stream",
     "text": [
      "Initial value of index 3 and 4:  tensor([ 6, 76])\n",
      "Modified tensor:  tensor([250,   4,  44,   1,   2,  13])\n"
     ]
    }
   ],
   "source": [
    "#change index 3 and 4\n",
    "\n",
    "print(\"Initial value of index 3 and 4: \", tensor_sample[3:5])\n",
    "tensor_sample[3:5]= torch.tensor([1,2])\n",
    "print(\"Modified tensor: \", tensor_sample)"
   ]
  },
  {
   "cell_type": "code",
   "execution_count": 65,
   "metadata": {},
   "outputs": [
    {
     "name": "stdout",
     "output_type": "stream",
     "text": [
      "Original tensor:  tensor([250,   4,  44,   1,   2,  13])\n",
      "The subset of original:  tensor([1, 2])\n"
     ]
    }
   ],
   "source": [
    "#use variable to select index  for slicing\n",
    "\n",
    "selected_indexes = [3,4]\n",
    "subset_tensor_sample = tensor_sample[selected_indexes]\n",
    "print(\"Original tensor: \",tensor_sample)\n",
    "print(\"The subset of original: \", subset_tensor_sample)"
   ]
  },
  {
   "cell_type": "code",
   "execution_count": 66,
   "metadata": {},
   "outputs": [
    {
     "name": "stdout",
     "output_type": "stream",
     "text": [
      "Original tensor:  tensor([250,   4,  44,   1,   2,  13])\n",
      "Modified tensor:  tensor([ 250,    4,   44, 1500, 1500,   13])\n"
     ]
    }
   ],
   "source": [
    "#use assigned variable  for slicing\n",
    "\n",
    "print(\"Original tensor: \",tensor_sample)\n",
    "selected_indexes=[3,4]\n",
    "tensor_sample[selected_indexes] = 1500\n",
    "print(\"Modified tensor: \", tensor_sample)\n"
   ]
  },
  {
   "cell_type": "markdown",
   "metadata": {},
   "source": [
    "## Practice\n"
   ]
  },
  {
   "cell_type": "code",
   "execution_count": 67,
   "metadata": {},
   "outputs": [
    {
     "name": "stdout",
     "output_type": "stream",
     "text": [
      "Modified tensor:  tensor([2, 7, 3, 0, 0, 2, 3, 0, 2])\n"
     ]
    }
   ],
   "source": [
    "# Practice: Change the values on index 3, 4, 7 to 0\n",
    "\n",
    "practice_tensor = torch.tensor([2, 7, 3, 4, 6, 2, 3, 1, 2])\n",
    "sample_indexes = [3,4,7]\n",
    "practice_tensor[sample_indexes]=0\n",
    "print(\"Modified tensor: \", practice_tensor)"
   ]
  },
  {
   "cell_type": "markdown",
   "metadata": {},
   "source": [
    "## Tensor Function"
   ]
  },
  {
   "cell_type": "markdown",
   "metadata": {},
   "source": [
    "<h3>Mean and Standard Deviation</h3>"
   ]
  },
  {
   "cell_type": "code",
   "execution_count": 77,
   "metadata": {},
   "outputs": [
    {
     "name": "stdout",
     "output_type": "stream",
     "text": [
      "Math tensor is  tensor([ 2.0000,  4.9000,  5.0000, -1.0000, -3.0000,  9.0000])\n",
      "\n",
      " The mean:  tensor(2.8167)\n",
      "\n",
      " The standard deviation:  tensor(4.3911)\n"
     ]
    }
   ],
   "source": [
    "math_tensor = torch.tensor([2,4.9,5,-1,-3,9])\n",
    "print(\"Math tensor is \",math_tensor)\n",
    "\n",
    "mean = math_tensor.mean()\n",
    "print(\"\\n The mean: \", mean)\n",
    "\n",
    "standard_deviation= math_tensor.std()\n",
    "print(\"\\n The standard deviation: \", standard_deviation)"
   ]
  },
  {
   "cell_type": "markdown",
   "metadata": {},
   "source": [
    "<h3>Max and Min</h3>"
   ]
  },
  {
   "cell_type": "code",
   "execution_count": 80,
   "metadata": {},
   "outputs": [
    {
     "name": "stdout",
     "output_type": "stream",
     "text": [
      "The maximum value in tensor:  tensor(99)\n",
      "The minimum value in tensor:  tensor(1)\n"
     ]
    }
   ],
   "source": [
    "sample_tensor = torch.tensor([1,1,4,5,6,7,8,99])\n",
    "\n",
    "Max_value = sample_tensor.max()\n",
    "print(\"The maximum value in tensor: \",Max_value)\n",
    "\n",
    "\n",
    "Min_value= sample_tensor.min()\n",
    "print(\"The minimum value in tensor: \",Min_value)\n"
   ]
  },
  {
   "cell_type": "markdown",
   "metadata": {},
   "source": [
    "<h3>Sin</h3>"
   ]
  },
  {
   "cell_type": "code",
   "execution_count": 82,
   "metadata": {},
   "outputs": [
    {
     "name": "stdout",
     "output_type": "stream",
     "text": [
      "The sin result of pi_tensor:  tensor([-8.7423e-08,  0.0000e+00,  1.0000e+00])\n"
     ]
    }
   ],
   "source": [
    "# Method for calculating the sin result of each element in the tensor\n",
    "\n",
    "pi_tensor = torch.tensor([np.pi, 0 , np.pi/2])\n",
    "sin = torch.sin(pi_tensor)\n",
    "print(\"The sin result of pi_tensor: \",sin)"
   ]
  },
  {
   "cell_type": "code",
   "execution_count": 85,
   "metadata": {},
   "outputs": [
    {
     "name": "stdout",
     "output_type": "stream",
     "text": [
      "The first try:  tensor([-5.0000, -2.5000,  0.0000,  2.5000,  5.0000])\n",
      "\n",
      " The second try:  tensor([-5.0000, -4.4737, -3.9474, -3.4211, -2.8947, -2.3684, -1.8421, -1.3158,\n",
      "        -0.7895, -0.2632,  0.2632,  0.7895,  1.3158,  1.8421,  2.3684,  2.8947,\n",
      "         3.4211,  3.9474,  4.4737,  5.0000])\n"
     ]
    }
   ],
   "source": [
    "#Linspace\n",
    "\n",
    "len_tensor = torch.linspace(-5,5, steps = 5)\n",
    "print(\"The first try: \",len_tensor)\n",
    "\n",
    "len_tensor = torch.linspace(-5,5, steps = 20)\n",
    "print(\"\\n The second try: \",len_tensor)"
   ]
  },
  {
   "cell_type": "code",
   "execution_count": 98,
   "metadata": {},
   "outputs": [
    {
     "data": {
      "text/plain": [
       "[<matplotlib.lines.Line2D at 0x186d6ddde50>]"
      ]
     },
     "execution_count": 98,
     "metadata": {},
     "output_type": "execute_result"
    },
    {
     "data": {
      "image/png": "[encoded data removed]",
      "text/plain": [
       "<Figure size 640x480 with 1 Axes>"
      ]
     },
     "metadata": {},
     "output_type": "display_data"
    }
   ],
   "source": [
    "# Construct the tensor within 0 to 360 degree\n",
    "\n",
    "pi_tensor= torch.linspace(0, 2*np.pi ,100)\n",
    "sin_result = torch.sin(pi_tensor)\n",
    "\n",
    "plt.plot(pi_tensor.numpy(), sin_result.numpy())"
   ]
  },
  {
   "cell_type": "markdown",
   "metadata": {},
   "source": [
    "## Practice"
   ]
  },
  {
   "cell_type": "code",
   "execution_count": 99,
   "metadata": {},
   "outputs": [
    {
     "name": "stdout",
     "output_type": "stream",
     "text": [
      "The maximum number:  tensor(1.5708)\n",
      "The minimum number:  tensor(0.)\n"
     ]
    },
    {
     "data": {
      "text/plain": [
       "[<matplotlib.lines.Line2D at 0x186d644b210>]"
      ]
     },
     "execution_count": 99,
     "metadata": {},
     "output_type": "execute_result"
    },
    {
     "data": {
      "image/png": "[encoded data removed]",
      "text/plain": [
       "<Figure size 640x480 with 1 Axes>"
      ]
     },
     "metadata": {},
     "output_type": "display_data"
    }
   ],
   "source": [
    "pi_tensor= torch.linspace(0, np.pi/2 ,100)\n",
    "print(\"The maximum number: \", pi_tensor.max())\n",
    "print(\"The minimum number: \", pi_tensor.min())\n",
    "\n",
    "sin_result = torch.sin(pi_tensor)\n",
    "\n",
    "plt.plot(pi_tensor.numpy(), sin_result.numpy())"
   ]
  },
  {
   "cell_type": "markdown",
   "metadata": {},
   "source": [
    "<h2 id=\"Tensor_Op\">Tensor Operations</h2>"
   ]
  },
  {
   "cell_type": "code",
   "execution_count": 102,
   "metadata": {},
   "outputs": [
    {
     "name": "stdout",
     "output_type": "stream",
     "text": [
      "tensor([1, 1])\n"
     ]
    }
   ],
   "source": [
    "u = torch.tensor([1,0])\n",
    "v = torch.tensor([0,1])\n",
    "\n",
    "z = u + v\n",
    "\n",
    "print(z)"
   ]
  },
  {
   "cell_type": "code",
   "execution_count": 104,
   "metadata": {},
   "outputs": [
    {
     "data": {
      "image/png": "[encoded data removed]",
      "text/plain": [
       "<Figure size 640x480 with 1 Axes>"
      ]
     },
     "metadata": {},
     "output_type": "display_data"
    }
   ],
   "source": [
    "# Plot u, v, z\n",
    "\n",
    "plotVec([\n",
    "    {\"vector\": u.numpy(), \"name\": 'u', \"color\": 'g'},\n",
    "    {\"vector\": v.numpy(), \"name\": 'v', \"color\": 'b'},\n",
    "    {\"vector\": z.numpy(), \"name\": 'z', \"color\": 'r'}\n",
    "])"
   ]
  },
  {
   "cell_type": "code",
   "execution_count": 105,
   "metadata": {},
   "outputs": [
    {
     "name": "stdout",
     "output_type": "stream",
     "text": [
      "tensor([ 1, -1])\n"
     ]
    }
   ],
   "source": [
    "z = u - v\n",
    "print(z)"
   ]
  },
  {
   "cell_type": "code",
   "execution_count": 106,
   "metadata": {},
   "outputs": [
    {
     "data": {
      "image/png": "[encoded data removed]",
      "text/plain": [
       "<Figure size 640x480 with 1 Axes>"
      ]
     },
     "metadata": {},
     "output_type": "display_data"
    }
   ],
   "source": [
    "# Plot u, v, z\n",
    "\n",
    "plotVec([\n",
    "    {\"vector\": u.numpy(), \"name\": 'u', \"color\": 'g'},\n",
    "    {\"vector\": v.numpy(), \"name\": 'v', \"color\": 'b'},\n",
    "    {\"vector\": z.numpy(), \"name\": 'z', \"color\": 'r'}\n",
    "])"
   ]
  },
  {
   "cell_type": "code",
   "execution_count": 110,
   "metadata": {},
   "outputs": [
    {
     "name": "stdout",
     "output_type": "stream",
     "text": [
      "tensor([ 32,  15,   4,  19, -45])\n",
      "\n",
      " tensor([20, 40, 80])\n",
      "\n",
      " tensor([2000,  400,   80])\n"
     ]
    }
   ],
   "source": [
    "# tensor + scalar\n",
    "\n",
    "#addition\n",
    "u = torch.tensor([22,5,-6,9,-55])\n",
    "v = u + 10\n",
    "\n",
    "print(v)\n",
    "\n",
    "#multiplication\n",
    "\n",
    "u = torch.tensor([2,4,8])\n",
    "v = u * 10\n",
    "\n",
    "print(\"\\n\",v)\n",
    "\n",
    "\n",
    "u = torch.tensor([2,4,8])\n",
    "v = torch.tensor([1000,100,10])\n",
    "z= u * v\n",
    "print(\"\\n\",z)"
   ]
  },
  {
   "cell_type": "code",
   "execution_count": 111,
   "metadata": {},
   "outputs": [
    {
     "name": "stdout",
     "output_type": "stream",
     "text": [
      "The dot product:  tensor(24)\n"
     ]
    }
   ],
   "source": [
    "#dot product\n",
    "\n",
    "u = torch.tensor([2,4])\n",
    "v = torch.tensor([10,1])\n",
    "\n",
    "print(\"The dot product: \",torch.dot(u,v))"
   ]
  },
  {
   "cell_type": "markdown",
   "metadata": {},
   "source": [
    "## Practice"
   ]
  },
  {
   "cell_type": "code",
   "execution_count": 113,
   "metadata": {},
   "outputs": [
    {
     "name": "stdout",
     "output_type": "stream",
     "text": [
      "The dot product:  tensor(0)\n"
     ]
    },
    {
     "data": {
      "image/png": "[encoded data removed]",
      "text/plain": [
       "<Figure size 640x480 with 1 Axes>"
      ]
     },
     "metadata": {},
     "output_type": "display_data"
    }
   ],
   "source": [
    "u = torch.tensor([-1,1])\n",
    "v = torch.tensor([1,1])\n",
    "\n",
    "print(\"The dot product: \",torch.dot(u,v))\n",
    "\n",
    "plotVec([\n",
    "    {\"vector\": u.numpy(), \"name\": 'u', \"color\": 'g'},\n",
    "    {\"vector\": v.numpy(), \"name\": 'v', \"color\": 'b'}\n",
    "])"
   ]
  }
 ],
 "metadata": {
  "kernelspec": {
   "display_name": "Python 3",
   "language": "python",
   "name": "python3"
  },
  "language_info": {
   "codemirror_mode": {
    "name": "ipython",
    "version": 3
   },
   "file_extension": ".py",
   "mimetype": "text/x-python",
   "name": "python",
   "nbconvert_exporter": "python",
   "pygments_lexer": "ipython3",
   "version": "3.11.3"
  }
 },
 "nbformat": 4,
 "nbformat_minor": 2
}
