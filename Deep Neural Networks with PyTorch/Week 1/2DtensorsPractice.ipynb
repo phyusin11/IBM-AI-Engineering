{
 "cells": [
  {
   "cell_type": "code",
   "execution_count": 2,
   "metadata": {},
   "outputs": [],
   "source": [
    "import torch\n",
    "import numpy as np\n",
    "import pandas as pd\n",
    "import matplotlib.pyplot as plt"
   ]
  },
  {
   "cell_type": "markdown",
   "metadata": {},
   "source": [
    "## Types and Shape"
   ]
  },
  {
   "cell_type": "code",
   "execution_count": 3,
   "metadata": {},
   "outputs": [
    {
     "name": "stdout",
     "output_type": "stream",
     "text": [
      "tensor([[21,  3, 56],\n",
      "        [99, 85, 11],\n",
      "        [ 1,  4,  9]])\n"
     ]
    }
   ],
   "source": [
    "#convert list to tensor\n",
    "\n",
    "twoD_tensor = torch.tensor([[21,3,56], [99,85,11], [1, 4,9]])\n",
    "print(twoD_tensor)"
   ]
  },
  {
   "cell_type": "code",
   "execution_count": 6,
   "metadata": {},
   "outputs": [
    {
     "name": "stdout",
     "output_type": "stream",
     "text": [
      "The dimension is  2\n",
      "The shape is  torch.Size([3, 3])\n",
      "The shape is  torch.Size([3, 3])\n",
      "The number of elements is  9\n"
     ]
    }
   ],
   "source": [
    "print(\"The dimension is \", twoD_tensor.ndimension())\n",
    "print(\"The shape is \", twoD_tensor.shape)\n",
    "print(\"The shape is \", twoD_tensor.size())\n",
    "print(\"The number of elements is \",twoD_tensor.numel())"
   ]
  },
  {
   "cell_type": "code",
   "execution_count": 7,
   "metadata": {},
   "outputs": [
    {
     "name": "stdout",
     "output_type": "stream",
     "text": [
      "Tensor --> Numpy Array: \n",
      "The numpy array:  [[21  3 56]\n",
      " [99 85 11]\n",
      " [ 1  4  9]]\n",
      "Type after converting:  int64\n",
      "\n",
      " Numpy Array-->Tensor: \n",
      "Tensor:  tensor([[21,  3, 56],\n",
      "        [99, 85, 11],\n",
      "        [ 1,  4,  9]])\n",
      "Type after converting:  torch.int64\n"
     ]
    }
   ],
   "source": [
    "#convert tensor to numpy array : convert numpy array to twoD_tensor\n",
    "\n",
    "twoD_numpy = twoD_tensor.numpy()\n",
    "print(\"Tensor --> Numpy Array: \")\n",
    "print(\"The numpy array: \",twoD_numpy)\n",
    "print(\"Type after converting: \", twoD_numpy.dtype)\n",
    "\n",
    "new_twoD_tensor = torch.from_numpy(twoD_numpy)\n",
    "print(\"\\n Numpy Array-->Tensor: \")\n",
    "print(\"Tensor: \",new_twoD_tensor)\n",
    "print(\"Type after converting: \", new_twoD_tensor.dtype)"
   ]
  },
  {
   "cell_type": "code",
   "execution_count": 8,
   "metadata": {},
   "outputs": [
    {
     "name": "stdout",
     "output_type": "stream",
     "text": [
      "Pandas Dataframe to numpy:  [[1 4]\n",
      " [2 5]\n",
      " [3 6]]\n",
      "Type before converting:  int64\n",
      "\n",
      "\n",
      "Tensor after converting:  tensor([[1, 4],\n",
      "        [2, 5],\n",
      "        [3, 6]])\n",
      "Type after converting:  torch.int64\n"
     ]
    }
   ],
   "source": [
    "#Panda to Tensor\n",
    "\n",
    "df = pd.DataFrame({'a':[1,2,3],'b':[4,5,6]})\n",
    "\n",
    "print(\"Pandas Dataframe to numpy: \", df.values)\n",
    "print(\"Type before converting: \",df.values.dtype)\n",
    "\n",
    "print(\"\\n\")\n",
    "\n",
    "new_tensor = torch.from_numpy(df.values)\n",
    "print(\"Tensor after converting: \", new_tensor)\n",
    "print('Type after converting: ',new_tensor.dtype)"
   ]
  },
  {
   "cell_type": "markdown",
   "metadata": {},
   "source": [
    "## Practice"
   ]
  },
  {
   "cell_type": "code",
   "execution_count": 9,
   "metadata": {},
   "outputs": [
    {
     "name": "stdout",
     "output_type": "stream",
     "text": [
      "Tensors:  tensor([[11, 55],\n",
      "        [22, 66],\n",
      "        [33, 77]])\n"
     ]
    }
   ],
   "source": [
    "df = pd.DataFrame({'A' : [11,22,33], 'B' : [55,66,77]})\n",
    "\n",
    "convered_tensor = torch.tensor(df.values)\n",
    "print(\"Tensors: \",convered_tensor)"
   ]
  },
  {
   "cell_type": "markdown",
   "metadata": {},
   "source": [
    "## Indexing and Slicing"
   ]
  },
  {
   "cell_type": "code",
   "execution_count": 10,
   "metadata": {},
   "outputs": [
    {
     "name": "stdout",
     "output_type": "stream",
     "text": [
      "Value on 2nd row and 3rd column:  tensor(6)\n"
     ]
    }
   ],
   "source": [
    "# indexing\n",
    "\n",
    "tensor_example = torch.tensor([[1,2,3],[4,5,6],[7,8,9]])\n",
    "\n",
    "print(\"Value on 2nd row and 3rd column: \", tensor_example[1,2])"
   ]
  },
  {
   "cell_type": "code",
   "execution_count": 11,
   "metadata": {},
   "outputs": [
    {
     "data": {
      "text/plain": [
       "tensor(1)"
      ]
     },
     "execution_count": 11,
     "metadata": {},
     "output_type": "execute_result"
    }
   ],
   "source": [
    "tensor_example[0][0]"
   ]
  },
  {
   "cell_type": "code",
   "execution_count": 12,
   "metadata": {},
   "outputs": [
    {
     "name": "stdout",
     "output_type": "stream",
     "text": [
      "The value on 1st row two colums:  tensor([1, 2])\n",
      "The value on 1st row two colums:  tensor([1, 2])\n"
     ]
    }
   ],
   "source": [
    "#Slicing\n",
    "\n",
    "tensor_example = torch.tensor([[1,2,3],[4,5,6],[7,8,9]])\n",
    "\n",
    "print(\"The value on 1st row two colums: \", tensor_example[0, 0:2])\n",
    "print(\"The value on 1st row two colums: \", tensor_example[0] [0:2])"
   ]
  },
  {
   "cell_type": "code",
   "execution_count": 17,
   "metadata": {},
   "outputs": [
    {
     "name": "stdout",
     "output_type": "stream",
     "text": [
      "Result is:  tensor([[4, 5, 6],\n",
      "        [7, 8, 9]])\n",
      "Dimension:  2\n",
      "===============================================\n",
      "Result after slice_tensor[1]:  tensor([7, 8, 9])\n",
      "Dimension after sliced_tensor[1]:  1\n",
      "================================================\n",
      "Result:  tensor([7, 8, 9])\n",
      "Dimension:  1\n"
     ]
    }
   ],
   "source": [
    "tensor_example = torch.tensor([[1,2,3],[4,5,6],[7,8,9]])\n",
    "sliced_tensor = tensor_example[1:3]\n",
    "\n",
    "print(\"Result is: \", sliced_tensor)\n",
    "print(\"Dimension: \", sliced_tensor.ndimension())\n",
    "\n",
    "print('===============================================')\n",
    "\n",
    "print('Result after slice_tensor[1]: ',sliced_tensor[1])\n",
    "print('Dimension after sliced_tensor[1]: ',sliced_tensor[1].ndimension())\n",
    "\n",
    "print('================================================')\n",
    "\n",
    "print('Result: ', tensor_example[1:3][1])\n",
    "print('Dimension: ',tensor_example[1:3][1].ndimension())"
   ]
  },
  {
   "cell_type": "code",
   "execution_count": 22,
   "metadata": {},
   "outputs": [
    {
     "name": "stdout",
     "output_type": "stream",
     "text": [
      "The values from 3rd column last two rows:  tensor([6, 9])\n"
     ]
    }
   ],
   "source": [
    "tensor_example = torch.tensor([[1,2,3],[4,5,6],[7,8,9]])\n",
    "\n",
    "print('The values from 3rd column last two rows: ', tensor_example[1:3,2])"
   ]
  },
  {
   "cell_type": "markdown",
   "metadata": {},
   "source": [
    "## Practice"
   ]
  },
  {
   "cell_type": "code",
   "execution_count": 34,
   "metadata": {},
   "outputs": [
    {
     "name": "stdout",
     "output_type": "stream",
     "text": [
      "Value on third row 2nd column:  tensor(8)\n",
      "Value on second column and first two rows:  tensor([2, 5])\n",
      "The result:  tensor([[1, 0, 3],\n",
      "        [4, 0, 6],\n",
      "        [7, 8, 9]])\n"
     ]
    }
   ],
   "source": [
    "#Use slice and index\n",
    "\n",
    "tensor_ques = torch.tensor([[1,2,3],[4,5,6],[7,8,9]])\n",
    "print('Value on third row 2nd column: ', tensor_ques[2,1])\n",
    "print('Value on second column and first two rows: ', tensor_ques[0:2,1])\n",
    "\n",
    "tensor_ques[0:2,1] = 0\n",
    "print('The result: ',tensor_ques)"
   ]
  },
  {
   "cell_type": "markdown",
   "metadata": {},
   "source": [
    "<h2 id=\"Tensor_Op\">Tensor Operations</h2> "
   ]
  },
  {
   "cell_type": "markdown",
   "metadata": {},
   "source": [
    "<h3>Tensor Addition</h3>"
   ]
  },
  {
   "cell_type": "code",
   "execution_count": 35,
   "metadata": {},
   "outputs": [
    {
     "name": "stdout",
     "output_type": "stream",
     "text": [
      "Addition:  tensor([[10, 10],\n",
      "        [ 8, 11]])\n"
     ]
    }
   ],
   "source": [
    "#addition\n",
    "\n",
    "x = torch.tensor([[1,2],[3,4]])\n",
    "y = torch.tensor([[9,8],[5,7]])\n",
    "\n",
    "z= x+y\n",
    "print('Addition: ',z)"
   ]
  },
  {
   "cell_type": "code",
   "execution_count": 38,
   "metadata": {},
   "outputs": [
    {
     "name": "stdout",
     "output_type": "stream",
     "text": [
      "Multiplication:  tensor([[2, 4],\n",
      "        [6, 8]])\n"
     ]
    }
   ],
   "source": [
    "#multiplication\n",
    "\n",
    "two_x = 2 * x\n",
    "print('Multiplication: ',two_x)"
   ]
  },
  {
   "cell_type": "code",
   "execution_count": 40,
   "metadata": {},
   "outputs": [
    {
     "name": "stdout",
     "output_type": "stream",
     "text": [
      "The result of x and y: \n",
      "  tensor([[ 9, 16],\n",
      "        [15, 28]])\n"
     ]
    }
   ],
   "source": [
    "print(\"The result of x and y: \\n \", x*y)"
   ]
  },
  {
   "cell_type": "code",
   "execution_count": 43,
   "metadata": {},
   "outputs": [
    {
     "name": "stdout",
     "output_type": "stream",
     "text": [
      "The result of A * B : \n",
      "  tensor([[10, 17],\n",
      "        [-3,  6]])\n"
     ]
    }
   ],
   "source": [
    "A = torch.tensor([[2, 3, 1], [1, 0, 4]])\n",
    "B = torch.tensor([[1, 2], [3, 4], [-1, 1]])\n",
    "print('The result of A * B : \\n ',torch.mm(A,B))"
   ]
  },
  {
   "cell_type": "code",
   "execution_count": 44,
   "metadata": {},
   "outputs": [
    {
     "name": "stdout",
     "output_type": "stream",
     "text": [
      "tensor([[2, 0],\n",
      "        [0, 2]])\n"
     ]
    }
   ],
   "source": [
    "X = torch.tensor([[1, 0], [0, 1]])\n",
    "Y = torch.tensor([[2, 1], [1, 2]]) \n",
    "X_times_Y = X * Y\n",
    "print(X_times_Y)"
   ]
  }
 ],
 "metadata": {
  "kernelspec": {
   "display_name": "Python 3",
   "language": "python",
   "name": "python3"
  },
  "language_info": {
   "codemirror_mode": {
    "name": "ipython",
    "version": 3
   },
   "file_extension": ".py",
   "mimetype": "text/x-python",
   "name": "python",
   "nbconvert_exporter": "python",
   "pygments_lexer": "ipython3",
   "version": "3.11.3"
  }
 },
 "nbformat": 4,
 "nbformat_minor": 2
}
