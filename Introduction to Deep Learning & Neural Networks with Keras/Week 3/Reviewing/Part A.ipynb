{
 "cells": [
  {
   "cell_type": "markdown",
   "metadata": {
    "collapsed": false
   },
   "source": [
    "IBM intro to Deep Learning using Keras\n",
    "Final Assignment\n",
    "Part A - Baseline Model\n",
    "\n"
   ]
  },
  {
   "cell_type": "markdown",
   "metadata": {
    "collapsed": false
   },
   "source": [
    "I am adopting the workflow:\n",
    "1. Load the input data\n",
    "2. Define the Artificial Neural Network (Network)\n",
    "3. Compile the Network\n",
    "4. Prepare the data to fit as input to ANN\n",
    "5. Fit the model with input data\n",
    "6. Predict the target\n",
    "7. Evaluate against new data\n",
    "So an acronym could be\n",
    "LDC-PFPE"
   ]
  },
  {
   "cell_type": "code",
   "execution_count": 1,
   "metadata": {
    "ExecuteTime": {
     "end_time": "2023-05-28T20:12:41.149589Z",
     "start_time": "2023-05-28T20:12:41.078651Z"
    },
    "collapsed": false
   },
   "outputs": [],
   "source": [
    "import pandas as pd\n",
    "import numpy as np\n",
    "from keras.models import Sequential\n",
    "from keras.layers import Dense\n",
    "from sklearn.model_selection import train_test_split"
   ]
  },
  {
   "cell_type": "markdown",
   "metadata": {
    "collapsed": false
   },
   "source": [
    "We load the data and split it using the train_test_split from Sci"
   ]
  },
  {
   "cell_type": "code",
   "execution_count": 2,
   "metadata": {
    "ExecuteTime": {
     "end_time": "2023-05-28T20:12:41.199923Z",
     "start_time": "2023-05-28T20:12:41.087736Z"
    },
    "collapsed": false
   },
   "outputs": [],
   "source": [
    "df = pd.read_csv(\"../concrete_data.csv\") # load data\n",
    "concrete_data_columns = df.columns\n",
    "\n",
    "predictors = df[concrete_data_columns[concrete_data_columns != 'Strength']]\n",
    "target = df['Strength'] # define target column(s) and the others are predictors (input)"
   ]
  },
  {
   "cell_type": "code",
   "execution_count": 3,
   "metadata": {
    "ExecuteTime": {
     "end_time": "2023-05-28T20:12:41.201799Z",
     "start_time": "2023-05-28T20:12:41.109101Z"
    },
    "collapsed": false
   },
   "outputs": [],
   "source": [
    "X_train, X_test, y_train, y_test = train_test_split(predictors, target, test_size=0.3) # Split"
   ]
  },
  {
   "cell_type": "code",
   "execution_count": 4,
   "metadata": {
    "ExecuteTime": {
     "end_time": "2023-05-28T20:12:41.202155Z",
     "start_time": "2023-05-28T20:12:41.115278Z"
    },
    "collapsed": false
   },
   "outputs": [],
   "source": [
    "n_cols = X_train.shape[1] # we use this next to define the network input shape"
   ]
  },
  {
   "cell_type": "markdown",
   "metadata": {
    "collapsed": false
   },
   "source": [
    "Next we do these two steps in a function\n",
    "2. Define the Artificial Neural Network (Network)\n",
    "3. Compile the Network"
   ]
  },
  {
   "cell_type": "code",
   "execution_count": 5,
   "metadata": {
    "ExecuteTime": {
     "end_time": "2023-05-28T20:12:41.202371Z",
     "start_time": "2023-05-28T20:12:41.123654Z"
    },
    "collapsed": false
   },
   "outputs": [],
   "source": [
    "def regression_model():\n",
    "\n",
    "    model = Sequential()\n",
    "    model.add(Dense(10, activation='relu', input_shape=(n_cols,)))\n",
    "    model.add(Dense(1))\n",
    "\n",
    "    model.compile(optimizer='adam', loss='mean_squared_error')\n",
    "    return model"
   ]
  },
  {
   "cell_type": "markdown",
   "metadata": {
    "collapsed": false
   },
   "source": [
    "4. Prepare the data to fit as input to ANN (No need, done during class)\n",
    "5. Fit the model with input data\n",
    "6. Predict the target (y_train)\n",
    "7. Evaluate against new data (y_test)"
   ]
  },
  {
   "cell_type": "code",
   "execution_count": 6,
   "metadata": {
    "ExecuteTime": {
     "end_time": "2023-05-28T20:15:36.573504Z",
     "start_time": "2023-05-28T20:12:41.133004Z"
    },
    "collapsed": false
   },
   "outputs": [
    {
     "name": "stdout",
     "output_type": "stream",
     "text": [
      "Round 0 MSE using model.evaluate is 868.4844970703125\n",
      "Round 1 MSE using model.evaluate is 237.47097778320312\n",
      "Round 2 MSE using model.evaluate is 126.69288635253906\n",
      "Round 3 MSE using model.evaluate is 113.2546157836914\n",
      "Round 4 MSE using model.evaluate is 107.65062713623047\n",
      "Round 5 MSE using model.evaluate is 106.53527069091797\n",
      "Round 6 MSE using model.evaluate is 105.280029296875\n",
      "Round 7 MSE using model.evaluate is 105.03990173339844\n",
      "Round 8 MSE using model.evaluate is 131.87098693847656\n",
      "Round 9 MSE using model.evaluate is 107.40099334716797\n",
      "Round 10 MSE using model.evaluate is 128.60400390625\n",
      "Round 11 MSE using model.evaluate is 109.48121643066406\n",
      "Round 12 MSE using model.evaluate is 108.14093780517578\n",
      "Round 13 MSE using model.evaluate is 136.46563720703125\n",
      "Round 14 MSE using model.evaluate is 110.3266830444336\n",
      "Round 15 MSE using model.evaluate is 111.60324096679688\n",
      "Round 16 MSE using model.evaluate is 107.41695404052734\n",
      "Round 17 MSE using model.evaluate is 107.11106872558594\n",
      "Round 18 MSE using model.evaluate is 107.2442855834961\n",
      "Round 19 MSE using model.evaluate is 106.02587127685547\n",
      "Round 20 MSE using model.evaluate is 105.82221221923828\n",
      "Round 21 MSE using model.evaluate is 107.53340911865234\n",
      "Round 22 MSE using model.evaluate is 131.14915466308594\n",
      "Round 23 MSE using model.evaluate is 106.1563491821289\n",
      "Round 24 MSE using model.evaluate is 105.81006622314453\n",
      "Round 25 MSE using model.evaluate is 110.70628356933594\n",
      "Round 26 MSE using model.evaluate is 108.38685607910156\n",
      "Round 27 MSE using model.evaluate is 107.39805603027344\n",
      "Round 28 MSE using model.evaluate is 136.8441162109375\n",
      "Round 29 MSE using model.evaluate is 107.3902359008789\n",
      "Round 30 MSE using model.evaluate is 133.38546752929688\n",
      "Round 31 MSE using model.evaluate is 121.31315612792969\n",
      "Round 32 MSE using model.evaluate is 108.80553436279297\n",
      "Round 33 MSE using model.evaluate is 119.85131072998047\n",
      "Round 34 MSE using model.evaluate is 121.2752685546875\n",
      "Round 35 MSE using model.evaluate is 119.74433898925781\n",
      "Round 36 MSE using model.evaluate is 106.32926177978516\n",
      "Round 37 MSE using model.evaluate is 110.96825408935547\n",
      "Round 38 MSE using model.evaluate is 111.89143371582031\n",
      "Round 39 MSE using model.evaluate is 110.39153289794922\n",
      "Round 40 MSE using model.evaluate is 110.23270416259766\n",
      "Round 41 MSE using model.evaluate is 105.81375122070312\n",
      "Round 42 MSE using model.evaluate is 106.54269409179688\n",
      "Round 43 MSE using model.evaluate is 104.81732177734375\n",
      "Round 44 MSE using model.evaluate is 106.91943359375\n",
      "Round 45 MSE using model.evaluate is 106.81086730957031\n",
      "Round 46 MSE using model.evaluate is 105.45291900634766\n",
      "Round 47 MSE using model.evaluate is 106.74961853027344\n",
      "Round 48 MSE using model.evaluate is 106.39297485351562\n",
      "Round 49 MSE using model.evaluate is 108.47917938232422\n"
     ]
    }
   ],
   "source": [
    "MSEs = []\n",
    "model = regression_model()\n",
    "\n",
    "for i in range(50):\n",
    "\n",
    "    model.fit(X_train, y_train, epochs = 50, validation_data=(X_test, y_test), verbose = 0)\n",
    "    scores = model.evaluate(X_test, y_test, verbose = 0)\n",
    "    MSEs.append(scores)\n",
    "    print(\"Round {} MSE using model.evaluate is {}\".format(i, scores))\n",
    "    # I have the MSE using this commented 2-line code and they are, for this purpose, the same. So I kept it simple\n",
    "    # yhat = model.predict(X_test, verbose = 0)\n",
    "    # print(\"MSE using SciKit function is <{}>\".format(mean_squared_error(y_test, yhat)))"
   ]
  },
  {
   "cell_type": "markdown",
   "metadata": {
    "collapsed": false
   },
   "source": [
    "Now we calculate the mean and standard deviation for all MSEs"
   ]
  },
  {
   "cell_type": "code",
   "execution_count": 7,
   "metadata": {
    "ExecuteTime": {
     "end_time": "2023-05-28T20:15:36.583061Z",
     "start_time": "2023-05-28T20:15:36.578047Z"
    },
    "collapsed": false
   },
   "outputs": [
    {
     "name": "stdout",
     "output_type": "stream",
     "text": [
      "Mean for MSEs is 130.0292889404297\n",
      "Standard Deviation for MSEs is 107.31222499851103\n"
     ]
    }
   ],
   "source": [
    "print(\"Mean for MSEs is {}\".format(np.mean(MSEs)))\n",
    "print(\"Standard Deviation for MSEs is {}\".format(np.std(MSEs)))"
   ]
  }
 ],
 "metadata": {
  "kernelspec": {
   "display_name": "Python 3",
   "language": "python",
   "name": "python3"
  },
  "language_info": {
   "codemirror_mode": {
    "name": "ipython",
    "version": 3
   },
   "file_extension": ".py",
   "mimetype": "text/x-python",
   "name": "python",
   "nbconvert_exporter": "python",
   "pygments_lexer": "ipython3",
   "version": "3.11.3"
  }
 },
 "nbformat": 4,
 "nbformat_minor": 0
}
