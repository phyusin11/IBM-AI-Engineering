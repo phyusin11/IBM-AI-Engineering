{
 "cells": [
  {
   "cell_type": "markdown",
   "source": [
    "IBM intro to Deep Learning using Keras\n",
    "Final Assignment\n",
    "Part D - Increase the number of hidden layers"
   ],
   "metadata": {
    "collapsed": false
   }
  },
  {
   "cell_type": "markdown",
   "source": [
    "I am adopting the workflow:\n",
    "1. Load the input data\n",
    "2. Define the Artificial Neural Network (Network)\n",
    "3. Compile the Network\n",
    "4. Prepare the data to fit as input to ANN\n",
    "5. Fit the model with input data\n",
    "6. Predict the target\n",
    "7. Evaluate against new data\n",
    "So an acronym could be\n",
    "LDC-PFPE"
   ],
   "metadata": {
    "collapsed": false
   }
  },
  {
   "cell_type": "code",
   "execution_count": 8,
   "outputs": [],
   "source": [
    "import pandas as pd\n",
    "import numpy as np\n",
    "from keras.models import Sequential\n",
    "from keras.layers import Dense\n",
    "from sklearn.model_selection import train_test_split\n",
    "# from sklearn.metrics import mean_squared_error"
   ],
   "metadata": {
    "collapsed": false,
    "ExecuteTime": {
     "end_time": "2023-05-28T20:23:30.649245Z",
     "start_time": "2023-05-28T20:23:30.608248Z"
    }
   }
  },
  {
   "cell_type": "markdown",
   "source": [
    "We load the data and split it using the train_test_split from Sci"
   ],
   "metadata": {
    "collapsed": false
   }
  },
  {
   "cell_type": "code",
   "execution_count": 9,
   "outputs": [
    {
     "data": {
      "text/plain": "     Cement  Blast Furnace Slag   Fly Ash     Water  Superplasticizer  \\\n0  2.476712           -0.856472 -0.846733 -0.916319         -0.620147   \n1  2.476712           -0.856472 -0.846733 -0.916319         -0.620147   \n2  0.491187            0.795140 -0.846733  2.174405         -1.038638   \n3  0.491187            0.795140 -0.846733  2.174405         -1.038638   \n4 -0.790075            0.678079 -0.846733  0.488555         -1.038638   \n\n   Coarse Aggregate  Fine Aggregate       Age  \n0          0.862735       -1.217079 -0.279597  \n1          1.055651       -1.217079 -0.279597  \n2         -0.526262       -2.239829  3.551340  \n3         -0.526262       -2.239829  5.055221  \n4          0.070492        0.647569  4.976069  ",
      "text/html": "<div>\n<style scoped>\n    .dataframe tbody tr th:only-of-type {\n        vertical-align: middle;\n    }\n\n    .dataframe tbody tr th {\n        vertical-align: top;\n    }\n\n    .dataframe thead th {\n        text-align: right;\n    }\n</style>\n<table border=\"1\" class=\"dataframe\">\n  <thead>\n    <tr style=\"text-align: right;\">\n      <th></th>\n      <th>Cement</th>\n      <th>Blast Furnace Slag</th>\n      <th>Fly Ash</th>\n      <th>Water</th>\n      <th>Superplasticizer</th>\n      <th>Coarse Aggregate</th>\n      <th>Fine Aggregate</th>\n      <th>Age</th>\n    </tr>\n  </thead>\n  <tbody>\n    <tr>\n      <th>0</th>\n      <td>2.476712</td>\n      <td>-0.856472</td>\n      <td>-0.846733</td>\n      <td>-0.916319</td>\n      <td>-0.620147</td>\n      <td>0.862735</td>\n      <td>-1.217079</td>\n      <td>-0.279597</td>\n    </tr>\n    <tr>\n      <th>1</th>\n      <td>2.476712</td>\n      <td>-0.856472</td>\n      <td>-0.846733</td>\n      <td>-0.916319</td>\n      <td>-0.620147</td>\n      <td>1.055651</td>\n      <td>-1.217079</td>\n      <td>-0.279597</td>\n    </tr>\n    <tr>\n      <th>2</th>\n      <td>0.491187</td>\n      <td>0.795140</td>\n      <td>-0.846733</td>\n      <td>2.174405</td>\n      <td>-1.038638</td>\n      <td>-0.526262</td>\n      <td>-2.239829</td>\n      <td>3.551340</td>\n    </tr>\n    <tr>\n      <th>3</th>\n      <td>0.491187</td>\n      <td>0.795140</td>\n      <td>-0.846733</td>\n      <td>2.174405</td>\n      <td>-1.038638</td>\n      <td>-0.526262</td>\n      <td>-2.239829</td>\n      <td>5.055221</td>\n    </tr>\n    <tr>\n      <th>4</th>\n      <td>-0.790075</td>\n      <td>0.678079</td>\n      <td>-0.846733</td>\n      <td>0.488555</td>\n      <td>-1.038638</td>\n      <td>0.070492</td>\n      <td>0.647569</td>\n      <td>4.976069</td>\n    </tr>\n  </tbody>\n</table>\n</div>"
     },
     "execution_count": 9,
     "metadata": {},
     "output_type": "execute_result"
    }
   ],
   "source": [
    "df = pd.read_csv(\"../concrete_data.csv\") # load data\n",
    "concrete_data_columns = df.columns\n",
    "\n",
    "predictors = df[concrete_data_columns[concrete_data_columns != 'Strength']]\n",
    "predictors_norm = (predictors - predictors.mean()) / predictors.std()\n",
    "target = df['Strength'] # define target column(s) and the others are predictors (input)\n",
    "predictors_norm.head()"
   ],
   "metadata": {
    "collapsed": false,
    "ExecuteTime": {
     "end_time": "2023-05-28T20:23:30.729710Z",
     "start_time": "2023-05-28T20:23:30.617202Z"
    }
   }
  },
  {
   "cell_type": "code",
   "execution_count": 10,
   "outputs": [],
   "source": [
    "X_train, X_test, y_train, y_test = train_test_split(predictors_norm, target, test_size=0.3) # Split"
   ],
   "metadata": {
    "collapsed": false,
    "ExecuteTime": {
     "end_time": "2023-05-28T20:23:30.730057Z",
     "start_time": "2023-05-28T20:23:30.640854Z"
    }
   }
  },
  {
   "cell_type": "code",
   "execution_count": 11,
   "outputs": [],
   "source": [
    "n_cols = X_train.shape[1] # we use this next to define the network input shape"
   ],
   "metadata": {
    "collapsed": false,
    "ExecuteTime": {
     "end_time": "2023-05-28T20:23:30.731692Z",
     "start_time": "2023-05-28T20:23:30.646466Z"
    }
   }
  },
  {
   "cell_type": "markdown",
   "source": [
    "Next we do these two steps in a function\n",
    "2. Define the Artificial Neural Network (Network)\n",
    "3. Compile the Network"
   ],
   "metadata": {
    "collapsed": false
   }
  },
  {
   "cell_type": "code",
   "execution_count": 12,
   "outputs": [],
   "source": [
    "def regression_model():\n",
    "\n",
    "    model = Sequential()\n",
    "    model.add(Dense(10, activation='relu', input_shape=(n_cols,)))\n",
    "    model.add(Dense(10, activation='relu'))\n",
    "    model.add(Dense(10, activation='relu'))\n",
    "    model.add(Dense(1))\n",
    "\n",
    "    model.compile(optimizer='adam', loss='mean_squared_error')\n",
    "    return model"
   ],
   "metadata": {
    "collapsed": false,
    "ExecuteTime": {
     "end_time": "2023-05-28T20:23:30.732763Z",
     "start_time": "2023-05-28T20:23:30.649837Z"
    }
   }
  },
  {
   "cell_type": "markdown",
   "source": [
    "4. Prepare the data to fit as input to ANN (No need, done during class)\n",
    "5. Fit the model with input data\n",
    "6. Predict the target (y_train)\n",
    "7. Evaluate against new data (y_test)"
   ],
   "metadata": {
    "collapsed": false
   }
  },
  {
   "cell_type": "code",
   "execution_count": 15,
   "outputs": [
    {
     "name": "stdout",
     "output_type": "stream",
     "text": [
      "Round 0 MSE is 150.05892944335938\n",
      "Round 1 MSE is 116.5148696899414\n",
      "Round 2 MSE is 57.44413757324219\n",
      "Round 3 MSE is 46.076663970947266\n",
      "Round 4 MSE is 41.447044372558594\n",
      "Round 5 MSE is 40.72568130493164\n",
      "Round 6 MSE is 39.38805389404297\n",
      "Round 7 MSE is 39.17792892456055\n",
      "Round 8 MSE is 38.398590087890625\n",
      "Round 9 MSE is 38.13225555419922\n",
      "Round 10 MSE is 37.54420852661133\n",
      "Round 11 MSE is 36.71628952026367\n",
      "Round 12 MSE is 36.74211883544922\n",
      "Round 13 MSE is 36.44207000732422\n",
      "Round 14 MSE is 36.64958190917969\n",
      "Round 15 MSE is 36.35663986206055\n",
      "Round 16 MSE is 36.583106994628906\n",
      "Round 17 MSE is 36.74827194213867\n",
      "Round 18 MSE is 36.481178283691406\n",
      "Round 19 MSE is 36.28937530517578\n",
      "Round 20 MSE is 36.37253952026367\n",
      "Round 21 MSE is 36.42673873901367\n",
      "Round 22 MSE is 36.50300216674805\n",
      "Round 23 MSE is 36.46440124511719\n",
      "Round 24 MSE is 36.13945388793945\n",
      "Round 25 MSE is 36.77268981933594\n",
      "Round 26 MSE is 36.923580169677734\n",
      "Round 27 MSE is 37.393951416015625\n",
      "Round 28 MSE is 38.368980407714844\n",
      "Round 29 MSE is 37.540531158447266\n",
      "Round 30 MSE is 36.814910888671875\n",
      "Round 31 MSE is 37.18653869628906\n",
      "Round 32 MSE is 36.9031982421875\n",
      "Round 33 MSE is 37.493106842041016\n",
      "Round 34 MSE is 36.7996711730957\n",
      "Round 35 MSE is 36.609405517578125\n",
      "Round 36 MSE is 36.28512954711914\n",
      "Round 37 MSE is 35.824729919433594\n",
      "Round 38 MSE is 35.738861083984375\n",
      "Round 39 MSE is 36.075706481933594\n",
      "Round 40 MSE is 35.84267807006836\n",
      "Round 41 MSE is 36.14220428466797\n",
      "Round 42 MSE is 36.23382568359375\n",
      "Round 43 MSE is 35.948177337646484\n",
      "Round 44 MSE is 36.54150390625\n",
      "Round 45 MSE is 35.94485855102539\n",
      "Round 46 MSE is 35.85487365722656\n",
      "Round 47 MSE is 36.46648025512695\n",
      "Round 48 MSE is 35.950809478759766\n",
      "Round 49 MSE is 36.15167236328125\n"
     ]
    }
   ],
   "source": [
    "MSEs = []\n",
    "model = regression_model()\n",
    "\n",
    "for i in range(50):\n",
    "\n",
    "    model.fit(X_train, y_train, epochs = 50, validation_data=(X_test, y_test), verbose = 0)\n",
    "    scores = model.evaluate(X_test, y_test, verbose = 0)\n",
    "    MSEs.append(scores)\n",
    "    print(\"Round {} MSE is {}\".format(i, scores))\n"
   ],
   "metadata": {
    "collapsed": false,
    "ExecuteTime": {
     "end_time": "2023-05-28T20:59:53.236430Z",
     "start_time": "2023-05-28T20:57:08.482933Z"
    }
   }
  },
  {
   "cell_type": "markdown",
   "source": [
    "Now we calculate the mean and standard deviation for all MSEs"
   ],
   "metadata": {
    "collapsed": false
   }
  },
  {
   "cell_type": "code",
   "execution_count": 16,
   "outputs": [
    {
     "name": "stdout",
     "output_type": "stream",
     "text": [
      "Mean for MSEs is 41.392624130249025\n",
      "Standard Deviation for MSEs is 19.34316753803054\n"
     ]
    }
   ],
   "source": [
    "print(\"Mean for MSEs is {}\".format(np.mean(MSEs)))\n",
    "print(\"Standard Deviation for MSEs is {}\".format(np.std(MSEs)))"
   ],
   "metadata": {
    "collapsed": false,
    "ExecuteTime": {
     "end_time": "2023-05-28T21:00:48.901529Z",
     "start_time": "2023-05-28T21:00:48.895301Z"
    }
   }
  },
  {
   "cell_type": "markdown",
   "source": [
    "Q: How does the mean of the mean squared errors compare to that from Step B?\n",
    "A: Increasing the hidden layers gives lower MSEs which means better predictions with less deviation."
   ],
   "metadata": {
    "collapsed": false
   }
  }
 ],
 "metadata": {
  "kernelspec": {
   "display_name": "Python 3",
   "language": "python",
   "name": "python3"
  },
  "language_info": {
   "codemirror_mode": {
    "name": "ipython",
    "version": 2
   },
   "file_extension": ".py",
   "mimetype": "text/x-python",
   "name": "python",
   "nbconvert_exporter": "python",
   "pygments_lexer": "ipython2",
   "version": "2.7.6"
  }
 },
 "nbformat": 4,
 "nbformat_minor": 0
}
