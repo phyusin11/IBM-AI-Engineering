{
 "cells": [
  {
   "cell_type": "markdown",
   "metadata": {
    "collapsed": false
   },
   "source": [
    "IBM intro to Deep Learning using Keras\n",
    "Final Assignment\n",
    "Part C - Increase the number of epochs (100 epoch)"
   ]
  },
  {
   "cell_type": "markdown",
   "metadata": {
    "collapsed": false
   },
   "source": [
    "I am adopting the workflow:\n",
    "1. Load the input data\n",
    "2. Define the Artificial Neural Network (Network)\n",
    "3. Compile the Network\n",
    "4. Prepare the data to fit as input to ANN\n",
    "5. Fit the model with input data\n",
    "6. Predict the target \n",
    "7. Evaluate against new data\n",
    "So an acronym could be\n",
    "LDC-PFPE"
   ]
  },
  {
   "cell_type": "code",
   "execution_count": 1,
   "metadata": {
    "ExecuteTime": {
     "end_time": "2023-05-28T20:23:11.576733Z",
     "start_time": "2023-05-28T20:23:11.533251Z"
    },
    "collapsed": false
   },
   "outputs": [],
   "source": [
    "import pandas as pd\n",
    "import numpy as np\n",
    "from keras.models import Sequential\n",
    "from keras.layers import Dense\n",
    "from sklearn.model_selection import train_test_split\n",
    "# from sklearn.metrics import mean_squared_error"
   ]
  },
  {
   "cell_type": "markdown",
   "metadata": {
    "collapsed": false
   },
   "source": [
    "We load the data and split it using the train_test_split from Sci"
   ]
  },
  {
   "cell_type": "code",
   "execution_count": 2,
   "metadata": {
    "ExecuteTime": {
     "end_time": "2023-05-28T20:23:11.676438Z",
     "start_time": "2023-05-28T20:23:11.544345Z"
    },
    "collapsed": false
   },
   "outputs": [
    {
     "data": {
      "text/html": [
       "<div>\n",
       "<style scoped>\n",
       "    .dataframe tbody tr th:only-of-type {\n",
       "        vertical-align: middle;\n",
       "    }\n",
       "\n",
       "    .dataframe tbody tr th {\n",
       "        vertical-align: top;\n",
       "    }\n",
       "\n",
       "    .dataframe thead th {\n",
       "        text-align: right;\n",
       "    }\n",
       "</style>\n",
       "<table border=\"1\" class=\"dataframe\">\n",
       "  <thead>\n",
       "    <tr style=\"text-align: right;\">\n",
       "      <th></th>\n",
       "      <th>Cement</th>\n",
       "      <th>Blast Furnace Slag</th>\n",
       "      <th>Fly Ash</th>\n",
       "      <th>Water</th>\n",
       "      <th>Superplasticizer</th>\n",
       "      <th>Coarse Aggregate</th>\n",
       "      <th>Fine Aggregate</th>\n",
       "      <th>Age</th>\n",
       "    </tr>\n",
       "  </thead>\n",
       "  <tbody>\n",
       "    <tr>\n",
       "      <th>0</th>\n",
       "      <td>2.476712</td>\n",
       "      <td>-0.856472</td>\n",
       "      <td>-0.846733</td>\n",
       "      <td>-0.916319</td>\n",
       "      <td>-0.620147</td>\n",
       "      <td>0.862735</td>\n",
       "      <td>-1.217079</td>\n",
       "      <td>-0.279597</td>\n",
       "    </tr>\n",
       "    <tr>\n",
       "      <th>1</th>\n",
       "      <td>2.476712</td>\n",
       "      <td>-0.856472</td>\n",
       "      <td>-0.846733</td>\n",
       "      <td>-0.916319</td>\n",
       "      <td>-0.620147</td>\n",
       "      <td>1.055651</td>\n",
       "      <td>-1.217079</td>\n",
       "      <td>-0.279597</td>\n",
       "    </tr>\n",
       "    <tr>\n",
       "      <th>2</th>\n",
       "      <td>0.491187</td>\n",
       "      <td>0.795140</td>\n",
       "      <td>-0.846733</td>\n",
       "      <td>2.174405</td>\n",
       "      <td>-1.038638</td>\n",
       "      <td>-0.526262</td>\n",
       "      <td>-2.239829</td>\n",
       "      <td>3.551340</td>\n",
       "    </tr>\n",
       "    <tr>\n",
       "      <th>3</th>\n",
       "      <td>0.491187</td>\n",
       "      <td>0.795140</td>\n",
       "      <td>-0.846733</td>\n",
       "      <td>2.174405</td>\n",
       "      <td>-1.038638</td>\n",
       "      <td>-0.526262</td>\n",
       "      <td>-2.239829</td>\n",
       "      <td>5.055221</td>\n",
       "    </tr>\n",
       "    <tr>\n",
       "      <th>4</th>\n",
       "      <td>-0.790075</td>\n",
       "      <td>0.678079</td>\n",
       "      <td>-0.846733</td>\n",
       "      <td>0.488555</td>\n",
       "      <td>-1.038638</td>\n",
       "      <td>0.070492</td>\n",
       "      <td>0.647569</td>\n",
       "      <td>4.976069</td>\n",
       "    </tr>\n",
       "  </tbody>\n",
       "</table>\n",
       "</div>"
      ],
      "text/plain": [
       "     Cement  Blast Furnace Slag   Fly Ash     Water  Superplasticizer  \\\n",
       "0  2.476712           -0.856472 -0.846733 -0.916319         -0.620147   \n",
       "1  2.476712           -0.856472 -0.846733 -0.916319         -0.620147   \n",
       "2  0.491187            0.795140 -0.846733  2.174405         -1.038638   \n",
       "3  0.491187            0.795140 -0.846733  2.174405         -1.038638   \n",
       "4 -0.790075            0.678079 -0.846733  0.488555         -1.038638   \n",
       "\n",
       "   Coarse Aggregate  Fine Aggregate       Age  \n",
       "0          0.862735       -1.217079 -0.279597  \n",
       "1          1.055651       -1.217079 -0.279597  \n",
       "2         -0.526262       -2.239829  3.551340  \n",
       "3         -0.526262       -2.239829  5.055221  \n",
       "4          0.070492        0.647569  4.976069  "
      ]
     },
     "execution_count": 2,
     "metadata": {},
     "output_type": "execute_result"
    }
   ],
   "source": [
    "df = pd.read_csv(\"../concrete_data.csv\") # load data\n",
    "concrete_data_columns = df.columns\n",
    "\n",
    "predictors = df[concrete_data_columns[concrete_data_columns != 'Strength']]\n",
    "predictors_norm = (predictors - predictors.mean()) / predictors.std()\n",
    "target = df['Strength'] # define target column(s) and the others are predictors (input)\n",
    "predictors_norm.head()"
   ]
  },
  {
   "cell_type": "code",
   "execution_count": 3,
   "metadata": {
    "ExecuteTime": {
     "end_time": "2023-05-28T20:23:11.676882Z",
     "start_time": "2023-05-28T20:23:11.568839Z"
    },
    "collapsed": false
   },
   "outputs": [],
   "source": [
    "X_train, X_test, y_train, y_test = train_test_split(predictors_norm, target, test_size=0.3) # Split"
   ]
  },
  {
   "cell_type": "code",
   "execution_count": 4,
   "metadata": {
    "ExecuteTime": {
     "end_time": "2023-05-28T20:23:11.678405Z",
     "start_time": "2023-05-28T20:23:11.574026Z"
    },
    "collapsed": false
   },
   "outputs": [],
   "source": [
    "n_cols = X_train.shape[1] # we use this next to define the network input shape"
   ]
  },
  {
   "cell_type": "markdown",
   "metadata": {
    "collapsed": false
   },
   "source": [
    "Next we do these two steps in a function\n",
    "2. Define the Artificial Neural Network (Network)\n",
    "3. Compile the Network"
   ]
  },
  {
   "cell_type": "code",
   "execution_count": 5,
   "metadata": {
    "ExecuteTime": {
     "end_time": "2023-05-28T20:23:11.679585Z",
     "start_time": "2023-05-28T20:23:11.577992Z"
    },
    "collapsed": false
   },
   "outputs": [],
   "source": [
    "def regression_model():\n",
    "\n",
    "    model = Sequential()\n",
    "    model.add(Dense(10, activation='relu', input_shape=(n_cols,)))\n",
    "    model.add(Dense(1))\n",
    "\n",
    "    model.compile(optimizer='adam', loss='mean_squared_error')\n",
    "    return model"
   ]
  },
  {
   "cell_type": "markdown",
   "metadata": {
    "collapsed": false
   },
   "source": [
    "4. Prepare the data to fit as input to ANN (No need, done during class)\n",
    "5. Fit the model with input data\n",
    "6. Predict the target (y_train)\n",
    "7. Evaluate against new data (y_test)"
   ]
  },
  {
   "cell_type": "code",
   "execution_count": 6,
   "metadata": {
    "ExecuteTime": {
     "end_time": "2023-05-28T21:02:47.853879Z",
     "start_time": "2023-05-28T20:57:50.283996Z"
    },
    "collapsed": false
   },
   "outputs": [
    {
     "name": "stdout",
     "output_type": "stream",
     "text": [
      "Round 0 MSE is 156.96165466308594\n",
      "Round 1 MSE is 80.41297149658203\n",
      "Round 2 MSE is 50.31404113769531\n",
      "Round 3 MSE is 43.39582061767578\n",
      "Round 4 MSE is 41.74477767944336\n",
      "Round 5 MSE is 41.029754638671875\n",
      "Round 6 MSE is 40.00071334838867\n",
      "Round 7 MSE is 39.23215866088867\n",
      "Round 8 MSE is 38.48524856567383\n",
      "Round 9 MSE is 38.11833953857422\n",
      "Round 10 MSE is 37.79811096191406\n",
      "Round 11 MSE is 37.66631317138672\n",
      "Round 12 MSE is 37.53459930419922\n",
      "Round 13 MSE is 37.39288330078125\n",
      "Round 14 MSE is 37.46037673950195\n",
      "Round 15 MSE is 37.81737518310547\n",
      "Round 16 MSE is 37.808746337890625\n",
      "Round 17 MSE is 37.73814392089844\n",
      "Round 18 MSE is 37.833614349365234\n",
      "Round 19 MSE is 37.77839660644531\n",
      "Round 20 MSE is 37.753761291503906\n",
      "Round 21 MSE is 37.46424865722656\n",
      "Round 22 MSE is 37.237205505371094\n",
      "Round 23 MSE is 37.00672149658203\n",
      "Round 24 MSE is 37.03486251831055\n",
      "Round 25 MSE is 36.80987548828125\n",
      "Round 26 MSE is 36.800567626953125\n",
      "Round 27 MSE is 36.448524475097656\n",
      "Round 28 MSE is 36.39503860473633\n",
      "Round 29 MSE is 36.56477355957031\n",
      "Round 30 MSE is 36.549747467041016\n",
      "Round 31 MSE is 36.37741470336914\n",
      "Round 32 MSE is 36.55412292480469\n",
      "Round 33 MSE is 36.243377685546875\n",
      "Round 34 MSE is 36.152549743652344\n",
      "Round 35 MSE is 36.23057556152344\n",
      "Round 36 MSE is 36.24478530883789\n",
      "Round 37 MSE is 36.05497360229492\n",
      "Round 38 MSE is 36.05048370361328\n",
      "Round 39 MSE is 36.1781120300293\n",
      "Round 40 MSE is 36.09575653076172\n",
      "Round 41 MSE is 36.14200210571289\n",
      "Round 42 MSE is 35.96044921875\n",
      "Round 43 MSE is 35.93095016479492\n",
      "Round 44 MSE is 36.073184967041016\n",
      "Round 45 MSE is 35.908321380615234\n",
      "Round 46 MSE is 36.110328674316406\n",
      "Round 47 MSE is 35.88274002075195\n",
      "Round 48 MSE is 35.892459869384766\n",
      "Round 49 MSE is 35.753082275390625\n"
     ]
    }
   ],
   "source": [
    "MSEs = []\n",
    "model = regression_model()\n",
    "\n",
    "for i in range(50):\n",
    "\n",
    "    model.fit(X_train, y_train, epochs = 100, validation_data=(X_test, y_test), verbose = 0)\n",
    "    scores = model.evaluate(X_test, y_test, verbose = 0)\n",
    "    MSEs.append(scores)\n",
    "    print(\"Round {} MSE is {}\".format(i, scores))\n"
   ]
  },
  {
   "cell_type": "markdown",
   "metadata": {
    "collapsed": false
   },
   "source": [
    "Now we calculate the mean and standard deviation for all MSEs"
   ]
  },
  {
   "cell_type": "code",
   "execution_count": 7,
   "metadata": {
    "ExecuteTime": {
     "end_time": "2023-05-28T21:05:02.102205Z",
     "start_time": "2023-05-28T21:05:02.094428Z"
    },
    "collapsed": false
   },
   "outputs": [
    {
     "name": "stdout",
     "output_type": "stream",
     "text": [
      "Mean for MSEs is 40.76850074768066\n",
      "Standard Deviation for MSEs is 17.811686894001777\n"
     ]
    }
   ],
   "source": [
    "print(\"Mean for MSEs is {}\".format(np.mean(MSEs)))\n",
    "print(\"Standard Deviation for MSEs is {}\".format(np.std(MSEs)))"
   ]
  },
  {
   "cell_type": "markdown",
   "metadata": {
    "collapsed": false
   },
   "source": [
    "Q: How does the mean of the mean squared errors compare to that from Step B?\n",
    "A: The MSEs tend to be smaller when we doubled the epochs from 50 to 100. We can safely say that the model gives better predictions when we increase the epochs."
   ]
  }
 ],
 "metadata": {
  "kernelspec": {
   "display_name": "Python 3",
   "language": "python",
   "name": "python3"
  },
  "language_info": {
   "codemirror_mode": {
    "name": "ipython",
    "version": 3
   },
   "file_extension": ".py",
   "mimetype": "text/x-python",
   "name": "python",
   "nbconvert_exporter": "python",
   "pygments_lexer": "ipython3",
   "version": "3.11.3"
  }
 },
 "nbformat": 4,
 "nbformat_minor": 0
}
