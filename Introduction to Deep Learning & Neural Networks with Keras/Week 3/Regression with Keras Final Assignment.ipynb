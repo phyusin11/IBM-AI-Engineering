{
  "cells": [
    {
      "cell_type": "markdown",
      "metadata": {
        "id": "L70otdu-X9-s"
      },
      "source": [
        "# Building Regression Model with Keras"
      ]
    },
    {
      "cell_type": "markdown",
      "metadata": {
        "id": "S92C0aI2YHe9"
      },
      "source": [
        "In this project, I will build a regression model using the deep learning Keras library, and then I will experiment with increasing the number of training epochs and changing number of hidden layers and you will see how changing these parameters impacts the performance of the model."
      ]
    },
    {
      "cell_type": "markdown",
      "metadata": {
        "id": "0HvyHSGvd0PK"
      },
      "source": [
        "#### Importing Libraries"
      ]
    },
    {
      "cell_type": "code",
      "execution_count": 38,
      "metadata": {
        "id": "QOb_MUsgYNml"
      },
      "outputs": [],
      "source": [
        "import pandas as pd\n",
        "import numpy as np\n",
        "\n",
        "from sklearn.model_selection import train_test_split\n",
        "from sklearn.metrics import mean_squared_error\n",
        "\n",
        "import keras\n",
        "from keras.models import Sequential\n",
        "from keras.layers import Dense\n"
      ]
    },
    {
      "cell_type": "markdown",
      "metadata": {
        "id": "bfVXRODdepDZ"
      },
      "source": [
        "### Loading the dataset"
      ]
    },
    {
      "cell_type": "code",
      "execution_count": 39,
      "metadata": {
        "colab": {
          "base_uri": "https://localhost:8080/",
          "height": 206
        },
        "id": "PkBauKEEfijY",
        "outputId": "a4e89e6b-f5a1-4f6e-dffb-29a7f892eb23"
      },
      "outputs": [
        {
          "data": {
            "text/html": [
              "<div>\n",
              "<style scoped>\n",
              "    .dataframe tbody tr th:only-of-type {\n",
              "        vertical-align: middle;\n",
              "    }\n",
              "\n",
              "    .dataframe tbody tr th {\n",
              "        vertical-align: top;\n",
              "    }\n",
              "\n",
              "    .dataframe thead th {\n",
              "        text-align: right;\n",
              "    }\n",
              "</style>\n",
              "<table border=\"1\" class=\"dataframe\">\n",
              "  <thead>\n",
              "    <tr style=\"text-align: right;\">\n",
              "      <th></th>\n",
              "      <th>Cement</th>\n",
              "      <th>Blast Furnace Slag</th>\n",
              "      <th>Fly Ash</th>\n",
              "      <th>Water</th>\n",
              "      <th>Superplasticizer</th>\n",
              "      <th>Coarse Aggregate</th>\n",
              "      <th>Fine Aggregate</th>\n",
              "      <th>Age</th>\n",
              "      <th>Strength</th>\n",
              "    </tr>\n",
              "  </thead>\n",
              "  <tbody>\n",
              "    <tr>\n",
              "      <th>0</th>\n",
              "      <td>540.0</td>\n",
              "      <td>0.0</td>\n",
              "      <td>0.0</td>\n",
              "      <td>162.0</td>\n",
              "      <td>2.5</td>\n",
              "      <td>1040.0</td>\n",
              "      <td>676.0</td>\n",
              "      <td>28</td>\n",
              "      <td>79.99</td>\n",
              "    </tr>\n",
              "    <tr>\n",
              "      <th>1</th>\n",
              "      <td>540.0</td>\n",
              "      <td>0.0</td>\n",
              "      <td>0.0</td>\n",
              "      <td>162.0</td>\n",
              "      <td>2.5</td>\n",
              "      <td>1055.0</td>\n",
              "      <td>676.0</td>\n",
              "      <td>28</td>\n",
              "      <td>61.89</td>\n",
              "    </tr>\n",
              "    <tr>\n",
              "      <th>2</th>\n",
              "      <td>332.5</td>\n",
              "      <td>142.5</td>\n",
              "      <td>0.0</td>\n",
              "      <td>228.0</td>\n",
              "      <td>0.0</td>\n",
              "      <td>932.0</td>\n",
              "      <td>594.0</td>\n",
              "      <td>270</td>\n",
              "      <td>40.27</td>\n",
              "    </tr>\n",
              "    <tr>\n",
              "      <th>3</th>\n",
              "      <td>332.5</td>\n",
              "      <td>142.5</td>\n",
              "      <td>0.0</td>\n",
              "      <td>228.0</td>\n",
              "      <td>0.0</td>\n",
              "      <td>932.0</td>\n",
              "      <td>594.0</td>\n",
              "      <td>365</td>\n",
              "      <td>41.05</td>\n",
              "    </tr>\n",
              "    <tr>\n",
              "      <th>4</th>\n",
              "      <td>198.6</td>\n",
              "      <td>132.4</td>\n",
              "      <td>0.0</td>\n",
              "      <td>192.0</td>\n",
              "      <td>0.0</td>\n",
              "      <td>978.4</td>\n",
              "      <td>825.5</td>\n",
              "      <td>360</td>\n",
              "      <td>44.30</td>\n",
              "    </tr>\n",
              "  </tbody>\n",
              "</table>\n",
              "</div>"
            ],
            "text/plain": [
              "   Cement  Blast Furnace Slag  Fly Ash  Water  Superplasticizer  \\\n",
              "0   540.0                 0.0      0.0  162.0               2.5   \n",
              "1   540.0                 0.0      0.0  162.0               2.5   \n",
              "2   332.5               142.5      0.0  228.0               0.0   \n",
              "3   332.5               142.5      0.0  228.0               0.0   \n",
              "4   198.6               132.4      0.0  192.0               0.0   \n",
              "\n",
              "   Coarse Aggregate  Fine Aggregate  Age  Strength  \n",
              "0            1040.0           676.0   28     79.99  \n",
              "1            1055.0           676.0   28     61.89  \n",
              "2             932.0           594.0  270     40.27  \n",
              "3             932.0           594.0  365     41.05  \n",
              "4             978.4           825.5  360     44.30  "
            ]
          },
          "execution_count": 39,
          "metadata": {},
          "output_type": "execute_result"
        }
      ],
      "source": [
        "concrete_data = pd.read_csv('https://s3-api.us-geo.objectstorage.softlayer.net/cf-courses-data/CognitiveClass/DL0101EN/labs/data/concrete_data.csv')\n",
        "concrete_data.head()"
      ]
    },
    {
      "cell_type": "markdown",
      "metadata": {},
      "source": [
        "#### Let's check how many data points we have."
      ]
    },
    {
      "cell_type": "code",
      "execution_count": 40,
      "metadata": {},
      "outputs": [
        {
          "data": {
            "text/plain": [
              "(1030, 9)"
            ]
          },
          "execution_count": 40,
          "metadata": {},
          "output_type": "execute_result"
        }
      ],
      "source": [
        "concrete_data.shape"
      ]
    },
    {
      "cell_type": "markdown",
      "metadata": {},
      "source": [
        "Let's check the dataset for any missing values."
      ]
    },
    {
      "cell_type": "code",
      "execution_count": 41,
      "metadata": {},
      "outputs": [
        {
          "data": {
            "text/html": [
              "<div>\n",
              "<style scoped>\n",
              "    .dataframe tbody tr th:only-of-type {\n",
              "        vertical-align: middle;\n",
              "    }\n",
              "\n",
              "    .dataframe tbody tr th {\n",
              "        vertical-align: top;\n",
              "    }\n",
              "\n",
              "    .dataframe thead th {\n",
              "        text-align: right;\n",
              "    }\n",
              "</style>\n",
              "<table border=\"1\" class=\"dataframe\">\n",
              "  <thead>\n",
              "    <tr style=\"text-align: right;\">\n",
              "      <th></th>\n",
              "      <th>Cement</th>\n",
              "      <th>Blast Furnace Slag</th>\n",
              "      <th>Fly Ash</th>\n",
              "      <th>Water</th>\n",
              "      <th>Superplasticizer</th>\n",
              "      <th>Coarse Aggregate</th>\n",
              "      <th>Fine Aggregate</th>\n",
              "      <th>Age</th>\n",
              "      <th>Strength</th>\n",
              "    </tr>\n",
              "  </thead>\n",
              "  <tbody>\n",
              "    <tr>\n",
              "      <th>count</th>\n",
              "      <td>1030.000000</td>\n",
              "      <td>1030.000000</td>\n",
              "      <td>1030.000000</td>\n",
              "      <td>1030.000000</td>\n",
              "      <td>1030.000000</td>\n",
              "      <td>1030.000000</td>\n",
              "      <td>1030.000000</td>\n",
              "      <td>1030.000000</td>\n",
              "      <td>1030.000000</td>\n",
              "    </tr>\n",
              "    <tr>\n",
              "      <th>mean</th>\n",
              "      <td>281.167864</td>\n",
              "      <td>73.895825</td>\n",
              "      <td>54.188350</td>\n",
              "      <td>181.567282</td>\n",
              "      <td>6.204660</td>\n",
              "      <td>972.918932</td>\n",
              "      <td>773.580485</td>\n",
              "      <td>45.662136</td>\n",
              "      <td>35.817961</td>\n",
              "    </tr>\n",
              "    <tr>\n",
              "      <th>std</th>\n",
              "      <td>104.506364</td>\n",
              "      <td>86.279342</td>\n",
              "      <td>63.997004</td>\n",
              "      <td>21.354219</td>\n",
              "      <td>5.973841</td>\n",
              "      <td>77.753954</td>\n",
              "      <td>80.175980</td>\n",
              "      <td>63.169912</td>\n",
              "      <td>16.705742</td>\n",
              "    </tr>\n",
              "    <tr>\n",
              "      <th>min</th>\n",
              "      <td>102.000000</td>\n",
              "      <td>0.000000</td>\n",
              "      <td>0.000000</td>\n",
              "      <td>121.800000</td>\n",
              "      <td>0.000000</td>\n",
              "      <td>801.000000</td>\n",
              "      <td>594.000000</td>\n",
              "      <td>1.000000</td>\n",
              "      <td>2.330000</td>\n",
              "    </tr>\n",
              "    <tr>\n",
              "      <th>25%</th>\n",
              "      <td>192.375000</td>\n",
              "      <td>0.000000</td>\n",
              "      <td>0.000000</td>\n",
              "      <td>164.900000</td>\n",
              "      <td>0.000000</td>\n",
              "      <td>932.000000</td>\n",
              "      <td>730.950000</td>\n",
              "      <td>7.000000</td>\n",
              "      <td>23.710000</td>\n",
              "    </tr>\n",
              "    <tr>\n",
              "      <th>50%</th>\n",
              "      <td>272.900000</td>\n",
              "      <td>22.000000</td>\n",
              "      <td>0.000000</td>\n",
              "      <td>185.000000</td>\n",
              "      <td>6.400000</td>\n",
              "      <td>968.000000</td>\n",
              "      <td>779.500000</td>\n",
              "      <td>28.000000</td>\n",
              "      <td>34.445000</td>\n",
              "    </tr>\n",
              "    <tr>\n",
              "      <th>75%</th>\n",
              "      <td>350.000000</td>\n",
              "      <td>142.950000</td>\n",
              "      <td>118.300000</td>\n",
              "      <td>192.000000</td>\n",
              "      <td>10.200000</td>\n",
              "      <td>1029.400000</td>\n",
              "      <td>824.000000</td>\n",
              "      <td>56.000000</td>\n",
              "      <td>46.135000</td>\n",
              "    </tr>\n",
              "    <tr>\n",
              "      <th>max</th>\n",
              "      <td>540.000000</td>\n",
              "      <td>359.400000</td>\n",
              "      <td>200.100000</td>\n",
              "      <td>247.000000</td>\n",
              "      <td>32.200000</td>\n",
              "      <td>1145.000000</td>\n",
              "      <td>992.600000</td>\n",
              "      <td>365.000000</td>\n",
              "      <td>82.600000</td>\n",
              "    </tr>\n",
              "  </tbody>\n",
              "</table>\n",
              "</div>"
            ],
            "text/plain": [
              "            Cement  Blast Furnace Slag      Fly Ash        Water  \\\n",
              "count  1030.000000         1030.000000  1030.000000  1030.000000   \n",
              "mean    281.167864           73.895825    54.188350   181.567282   \n",
              "std     104.506364           86.279342    63.997004    21.354219   \n",
              "min     102.000000            0.000000     0.000000   121.800000   \n",
              "25%     192.375000            0.000000     0.000000   164.900000   \n",
              "50%     272.900000           22.000000     0.000000   185.000000   \n",
              "75%     350.000000          142.950000   118.300000   192.000000   \n",
              "max     540.000000          359.400000   200.100000   247.000000   \n",
              "\n",
              "       Superplasticizer  Coarse Aggregate  Fine Aggregate          Age  \\\n",
              "count       1030.000000       1030.000000     1030.000000  1030.000000   \n",
              "mean           6.204660        972.918932      773.580485    45.662136   \n",
              "std            5.973841         77.753954       80.175980    63.169912   \n",
              "min            0.000000        801.000000      594.000000     1.000000   \n",
              "25%            0.000000        932.000000      730.950000     7.000000   \n",
              "50%            6.400000        968.000000      779.500000    28.000000   \n",
              "75%           10.200000       1029.400000      824.000000    56.000000   \n",
              "max           32.200000       1145.000000      992.600000   365.000000   \n",
              "\n",
              "          Strength  \n",
              "count  1030.000000  \n",
              "mean     35.817961  \n",
              "std      16.705742  \n",
              "min       2.330000  \n",
              "25%      23.710000  \n",
              "50%      34.445000  \n",
              "75%      46.135000  \n",
              "max      82.600000  "
            ]
          },
          "execution_count": 41,
          "metadata": {},
          "output_type": "execute_result"
        }
      ],
      "source": [
        "concrete_data.describe()"
      ]
    },
    {
      "cell_type": "code",
      "execution_count": 42,
      "metadata": {
        "colab": {
          "base_uri": "https://localhost:8080/"
        },
        "id": "Sfmc3gdc3AIF",
        "outputId": "df9fd95c-5ae7-4f29-ec7d-0482fe81bae7"
      },
      "outputs": [
        {
          "data": {
            "text/plain": [
              "Cement                0\n",
              "Blast Furnace Slag    0\n",
              "Fly Ash               0\n",
              "Water                 0\n",
              "Superplasticizer      0\n",
              "Coarse Aggregate      0\n",
              "Fine Aggregate        0\n",
              "Age                   0\n",
              "Strength              0\n",
              "dtype: int64"
            ]
          },
          "execution_count": 42,
          "metadata": {},
          "output_type": "execute_result"
        }
      ],
      "source": [
        "\n",
        "concrete_data.isnull().sum()"
      ]
    },
    {
      "cell_type": "markdown",
      "metadata": {},
      "source": [
        "#### Split data into predictors and target"
      ]
    },
    {
      "cell_type": "code",
      "execution_count": 43,
      "metadata": {
        "id": "D2ZHWamGoLH2"
      },
      "outputs": [],
      "source": [
        "predictor = concrete_data.drop(columns = ['Strength'])\n",
        "target = concrete_data['Strength']\n",
        "n_cols = predictor.shape[1]"
      ]
    },
    {
      "cell_type": "markdown",
      "metadata": {},
      "source": [
        "Let's do a quick sanity check of the predictors and the target dataframes."
      ]
    },
    {
      "cell_type": "code",
      "execution_count": 44,
      "metadata": {
        "colab": {
          "base_uri": "https://localhost:8080/",
          "height": 206
        },
        "id": "LzLtI1V2ptpy",
        "outputId": "6ff4eede-6daa-4ef5-a36f-06622cde5ac3"
      },
      "outputs": [
        {
          "data": {
            "text/html": [
              "<div>\n",
              "<style scoped>\n",
              "    .dataframe tbody tr th:only-of-type {\n",
              "        vertical-align: middle;\n",
              "    }\n",
              "\n",
              "    .dataframe tbody tr th {\n",
              "        vertical-align: top;\n",
              "    }\n",
              "\n",
              "    .dataframe thead th {\n",
              "        text-align: right;\n",
              "    }\n",
              "</style>\n",
              "<table border=\"1\" class=\"dataframe\">\n",
              "  <thead>\n",
              "    <tr style=\"text-align: right;\">\n",
              "      <th></th>\n",
              "      <th>Cement</th>\n",
              "      <th>Blast Furnace Slag</th>\n",
              "      <th>Fly Ash</th>\n",
              "      <th>Water</th>\n",
              "      <th>Superplasticizer</th>\n",
              "      <th>Coarse Aggregate</th>\n",
              "      <th>Fine Aggregate</th>\n",
              "      <th>Age</th>\n",
              "    </tr>\n",
              "  </thead>\n",
              "  <tbody>\n",
              "    <tr>\n",
              "      <th>0</th>\n",
              "      <td>540.0</td>\n",
              "      <td>0.0</td>\n",
              "      <td>0.0</td>\n",
              "      <td>162.0</td>\n",
              "      <td>2.5</td>\n",
              "      <td>1040.0</td>\n",
              "      <td>676.0</td>\n",
              "      <td>28</td>\n",
              "    </tr>\n",
              "    <tr>\n",
              "      <th>1</th>\n",
              "      <td>540.0</td>\n",
              "      <td>0.0</td>\n",
              "      <td>0.0</td>\n",
              "      <td>162.0</td>\n",
              "      <td>2.5</td>\n",
              "      <td>1055.0</td>\n",
              "      <td>676.0</td>\n",
              "      <td>28</td>\n",
              "    </tr>\n",
              "    <tr>\n",
              "      <th>2</th>\n",
              "      <td>332.5</td>\n",
              "      <td>142.5</td>\n",
              "      <td>0.0</td>\n",
              "      <td>228.0</td>\n",
              "      <td>0.0</td>\n",
              "      <td>932.0</td>\n",
              "      <td>594.0</td>\n",
              "      <td>270</td>\n",
              "    </tr>\n",
              "    <tr>\n",
              "      <th>3</th>\n",
              "      <td>332.5</td>\n",
              "      <td>142.5</td>\n",
              "      <td>0.0</td>\n",
              "      <td>228.0</td>\n",
              "      <td>0.0</td>\n",
              "      <td>932.0</td>\n",
              "      <td>594.0</td>\n",
              "      <td>365</td>\n",
              "    </tr>\n",
              "    <tr>\n",
              "      <th>4</th>\n",
              "      <td>198.6</td>\n",
              "      <td>132.4</td>\n",
              "      <td>0.0</td>\n",
              "      <td>192.0</td>\n",
              "      <td>0.0</td>\n",
              "      <td>978.4</td>\n",
              "      <td>825.5</td>\n",
              "      <td>360</td>\n",
              "    </tr>\n",
              "  </tbody>\n",
              "</table>\n",
              "</div>"
            ],
            "text/plain": [
              "   Cement  Blast Furnace Slag  Fly Ash  Water  Superplasticizer  \\\n",
              "0   540.0                 0.0      0.0  162.0               2.5   \n",
              "1   540.0                 0.0      0.0  162.0               2.5   \n",
              "2   332.5               142.5      0.0  228.0               0.0   \n",
              "3   332.5               142.5      0.0  228.0               0.0   \n",
              "4   198.6               132.4      0.0  192.0               0.0   \n",
              "\n",
              "   Coarse Aggregate  Fine Aggregate  Age  \n",
              "0            1040.0           676.0   28  \n",
              "1            1055.0           676.0   28  \n",
              "2             932.0           594.0  270  \n",
              "3             932.0           594.0  365  \n",
              "4             978.4           825.5  360  "
            ]
          },
          "execution_count": 44,
          "metadata": {},
          "output_type": "execute_result"
        }
      ],
      "source": [
        "predictor.head()"
      ]
    },
    {
      "cell_type": "code",
      "execution_count": 45,
      "metadata": {
        "colab": {
          "base_uri": "https://localhost:8080/"
        },
        "id": "2g09xd31pxAN",
        "outputId": "9e3bac03-2f7b-4da7-9e33-0e5751a21753"
      },
      "outputs": [
        {
          "data": {
            "text/plain": [
              "0    79.99\n",
              "1    61.89\n",
              "2    40.27\n",
              "3    41.05\n",
              "4    44.30\n",
              "Name: Strength, dtype: float64"
            ]
          },
          "execution_count": 45,
          "metadata": {},
          "output_type": "execute_result"
        }
      ],
      "source": [
        "target.head()"
      ]
    },
    {
      "cell_type": "markdown",
      "metadata": {
        "id": "aLQc-B-6kQru"
      },
      "source": [
        "## Section: A\n",
        "Building the baseline Neural Network Model\n",
        "\n",
        "\n"
      ]
    },
    {
      "cell_type": "code",
      "execution_count": 46,
      "metadata": {
        "id": "T47hi_cbfmN0"
      },
      "outputs": [],
      "source": [
        "def regression_model():\n",
        "  #creating the model\n",
        "  model = Sequential()\n",
        "  #first hidden layer\n",
        "  model.add(Dense(10, activation = 'relu', input_shape = (n_cols,)))\n",
        "  #output layer\n",
        "  model.add(Dense(1))\n",
        "  #compiling the model\n",
        "  model.compile(optimizer = 'adam', loss = 'mean_squared_error')\n",
        "  return model"
      ]
    },
    {
      "cell_type": "markdown",
      "metadata": {},
      "source": [
        "Splitting the data into a training and test sets by holding 30% of the data for testing"
      ]
    },
    {
      "cell_type": "code",
      "execution_count": 47,
      "metadata": {},
      "outputs": [],
      "source": [
        "X_train, X_test, y_train, y_test = train_test_split(predictor, target, test_size=0.3, random_state=42)"
      ]
    },
    {
      "cell_type": "markdown",
      "metadata": {},
      "source": [
        "## Train and Test the Network"
      ]
    },
    {
      "cell_type": "markdown",
      "metadata": {},
      "source": [
        "Let's call the function now to create our model.\n",
        "Next, we will train the model for 50 epochs"
      ]
    },
    {
      "cell_type": "code",
      "execution_count": 49,
      "metadata": {},
      "outputs": [
        {
          "name": "stdout",
          "output_type": "stream",
          "text": [
            "Epoch 1/50\n",
            "33/33 - 1s - loss: 9182.3691 - 511ms/epoch - 15ms/step\n",
            "Epoch 2/50\n",
            "33/33 - 0s - loss: 3331.4412 - 48ms/epoch - 1ms/step\n",
            "Epoch 3/50\n",
            "33/33 - 0s - loss: 2601.5029 - 62ms/epoch - 2ms/step\n",
            "Epoch 4/50\n",
            "33/33 - 0s - loss: 2107.9092 - 55ms/epoch - 2ms/step\n",
            "Epoch 5/50\n",
            "33/33 - 0s - loss: 1746.5182 - 53ms/epoch - 2ms/step\n",
            "Epoch 6/50\n",
            "33/33 - 0s - loss: 1473.5953 - 54ms/epoch - 2ms/step\n",
            "Epoch 7/50\n",
            "33/33 - 0s - loss: 1258.3121 - 50ms/epoch - 2ms/step\n",
            "Epoch 8/50\n",
            "33/33 - 0s - loss: 1099.5050 - 65ms/epoch - 2ms/step\n",
            "Epoch 9/50\n",
            "33/33 - 0s - loss: 968.1709 - 54ms/epoch - 2ms/step\n",
            "Epoch 10/50\n",
            "33/33 - 0s - loss: 871.0778 - 56ms/epoch - 2ms/step\n",
            "Epoch 11/50\n",
            "33/33 - 0s - loss: 785.4714 - 55ms/epoch - 2ms/step\n",
            "Epoch 12/50\n",
            "33/33 - 0s - loss: 719.3383 - 48ms/epoch - 1ms/step\n",
            "Epoch 13/50\n",
            "33/33 - 0s - loss: 668.0103 - 50ms/epoch - 2ms/step\n",
            "Epoch 14/50\n",
            "33/33 - 0s - loss: 615.7926 - 53ms/epoch - 2ms/step\n",
            "Epoch 15/50\n",
            "33/33 - 0s - loss: 572.2094 - 47ms/epoch - 1ms/step\n",
            "Epoch 16/50\n",
            "33/33 - 0s - loss: 534.9213 - 59ms/epoch - 2ms/step\n",
            "Epoch 17/50\n",
            "33/33 - 0s - loss: 503.2043 - 57ms/epoch - 2ms/step\n",
            "Epoch 18/50\n",
            "33/33 - 0s - loss: 473.2931 - 59ms/epoch - 2ms/step\n",
            "Epoch 19/50\n",
            "33/33 - 0s - loss: 442.8171 - 56ms/epoch - 2ms/step\n",
            "Epoch 20/50\n",
            "33/33 - 0s - loss: 415.9019 - 54ms/epoch - 2ms/step\n",
            "Epoch 21/50\n",
            "33/33 - 0s - loss: 394.8117 - 54ms/epoch - 2ms/step\n",
            "Epoch 22/50\n",
            "33/33 - 0s - loss: 372.1639 - 52ms/epoch - 2ms/step\n",
            "Epoch 23/50\n",
            "33/33 - 0s - loss: 348.9739 - 51ms/epoch - 2ms/step\n",
            "Epoch 24/50\n",
            "33/33 - 0s - loss: 336.0720 - 48ms/epoch - 1ms/step\n",
            "Epoch 25/50\n",
            "33/33 - 0s - loss: 320.3286 - 55ms/epoch - 2ms/step\n",
            "Epoch 26/50\n",
            "33/33 - 0s - loss: 299.5300 - 69ms/epoch - 2ms/step\n",
            "Epoch 27/50\n",
            "33/33 - 0s - loss: 283.3173 - 64ms/epoch - 2ms/step\n",
            "Epoch 28/50\n",
            "33/33 - 0s - loss: 269.4942 - 46ms/epoch - 1ms/step\n",
            "Epoch 29/50\n",
            "33/33 - 0s - loss: 257.4155 - 53ms/epoch - 2ms/step\n",
            "Epoch 30/50\n",
            "33/33 - 0s - loss: 244.7314 - 48ms/epoch - 1ms/step\n",
            "Epoch 31/50\n",
            "33/33 - 0s - loss: 234.8045 - 53ms/epoch - 2ms/step\n",
            "Epoch 32/50\n",
            "33/33 - 0s - loss: 225.4766 - 53ms/epoch - 2ms/step\n",
            "Epoch 33/50\n",
            "33/33 - 0s - loss: 216.7810 - 47ms/epoch - 1ms/step\n",
            "Epoch 34/50\n",
            "33/33 - 0s - loss: 207.8197 - 58ms/epoch - 2ms/step\n",
            "Epoch 35/50\n",
            "33/33 - 0s - loss: 201.0793 - 56ms/epoch - 2ms/step\n",
            "Epoch 36/50\n",
            "33/33 - 0s - loss: 193.0191 - 48ms/epoch - 1ms/step\n",
            "Epoch 37/50\n",
            "33/33 - 0s - loss: 188.4227 - 49ms/epoch - 1ms/step\n",
            "Epoch 38/50\n",
            "33/33 - 0s - loss: 183.9190 - 50ms/epoch - 2ms/step\n",
            "Epoch 39/50\n",
            "33/33 - 0s - loss: 176.2207 - 45ms/epoch - 1ms/step\n",
            "Epoch 40/50\n",
            "33/33 - 0s - loss: 172.1186 - 51ms/epoch - 2ms/step\n",
            "Epoch 41/50\n",
            "33/33 - 0s - loss: 166.7828 - 50ms/epoch - 2ms/step\n",
            "Epoch 42/50\n",
            "33/33 - 0s - loss: 162.5839 - 49ms/epoch - 1ms/step\n",
            "Epoch 43/50\n",
            "33/33 - 0s - loss: 160.8042 - 48ms/epoch - 1ms/step\n",
            "Epoch 44/50\n",
            "33/33 - 0s - loss: 156.2469 - 53ms/epoch - 2ms/step\n",
            "Epoch 45/50\n",
            "33/33 - 0s - loss: 152.1294 - 47ms/epoch - 1ms/step\n",
            "Epoch 46/50\n",
            "33/33 - 0s - loss: 151.6886 - 88ms/epoch - 3ms/step\n",
            "Epoch 47/50\n",
            "33/33 - 0s - loss: 146.8069 - 43ms/epoch - 1ms/step\n",
            "Epoch 48/50\n",
            "33/33 - 0s - loss: 144.4561 - 47ms/epoch - 1ms/step\n",
            "Epoch 49/50\n",
            "33/33 - 0s - loss: 144.2994 - 108ms/epoch - 3ms/step\n",
            "Epoch 50/50\n",
            "33/33 - 0s - loss: 139.8108 - 40ms/epoch - 1ms/step\n"
          ]
        },
        {
          "data": {
            "text/plain": [
              "<keras.src.callbacks.History at 0x1b49eb129d0>"
            ]
          },
          "execution_count": 49,
          "metadata": {},
          "output_type": "execute_result"
        }
      ],
      "source": [
        "# Build model\n",
        "model = regression_model()\n",
        "\n",
        "# Fit model\n",
        "model.fit(predictor, target, epochs=50, verbose=2)"
      ]
    },
    {
      "cell_type": "markdown",
      "metadata": {},
      "source": [
        "We need to evaluate the model on test data."
      ]
    },
    {
      "cell_type": "code",
      "execution_count": 50,
      "metadata": {},
      "outputs": [
        {
          "name": "stdout",
          "output_type": "stream",
          "text": [
            "10/10 [==============================] - 0s 2ms/step - loss: 138.2203\n",
            "10/10 [==============================] - 0s 2ms/step\n"
          ]
        },
        {
          "data": {
            "text/plain": [
              "138.22032165527344"
            ]
          },
          "execution_count": 50,
          "metadata": {},
          "output_type": "execute_result"
        }
      ],
      "source": [
        "loss_val = model.evaluate(X_test, y_test)\n",
        "y_pred = model.predict(X_test)\n",
        "loss_val"
      ]
    },
    {
      "cell_type": "code",
      "execution_count": 51,
      "metadata": {},
      "outputs": [
        {
          "name": "stdout",
          "output_type": "stream",
          "text": [
            "138.2203233206089 0.0\n"
          ]
        }
      ],
      "source": [
        "mean_square_error = mean_squared_error(y_test, y_pred)\n",
        "mean = np.mean(mean_square_error)\n",
        "standard_deviation = np.std(mean_square_error)\n",
        "print(mean, standard_deviation)"
      ]
    },
    {
      "cell_type": "markdown",
      "metadata": {},
      "source": [
        "List of 50 mean squared errors with report of mean and the standard deviation of the mean squared errors"
      ]
    },
    {
      "cell_type": "code",
      "execution_count": 53,
      "metadata": {},
      "outputs": [
        {
          "name": "stdout",
          "output_type": "stream",
          "text": [
            "1  MSE----> : 93.4520263671875\n",
            "10/10 [==============================] - 0s 1ms/step\n",
            "2  MSE----> : 121.61591339111328\n",
            "10/10 [==============================] - 0s 1ms/step\n",
            "3  MSE----> : 114.5422592163086\n",
            "10/10 [==============================] - 0s 666us/step\n",
            "4  MSE----> : 121.87704467773438\n",
            "10/10 [==============================] - 0s 2ms/step\n",
            "5  MSE----> : 122.00952911376953\n",
            "10/10 [==============================] - 0s 2ms/step\n",
            "6  MSE----> : 108.69194030761719\n",
            "10/10 [==============================] - 0s 1ms/step\n",
            "7  MSE----> : 130.18064880371094\n",
            "10/10 [==============================] - 0s 1ms/step\n",
            "8  MSE----> : 75.46430206298828\n",
            "10/10 [==============================] - 0s 2ms/step\n",
            "9  MSE----> : 67.83309936523438\n",
            "10/10 [==============================] - 0s 2ms/step\n",
            "10  MSE----> : 53.01186752319336\n",
            "10/10 [==============================] - 0s 2ms/step\n",
            "11  MSE----> : 48.281307220458984\n",
            "10/10 [==============================] - 0s 1ms/step\n",
            "12  MSE----> : 46.318214416503906\n",
            "10/10 [==============================] - 0s 2ms/step\n",
            "13  MSE----> : 55.66230392456055\n",
            "10/10 [==============================] - 0s 1ms/step\n",
            "14  MSE----> : 62.242794036865234\n",
            "10/10 [==============================] - 0s 826us/step\n",
            "15  MSE----> : 49.61510467529297\n",
            "10/10 [==============================] - 0s 1ms/step\n",
            "16  MSE----> : 43.50374221801758\n",
            "10/10 [==============================] - 0s 1ms/step\n",
            "17  MSE----> : 50.30708694458008\n",
            "10/10 [==============================] - 0s 1ms/step\n",
            "18  MSE----> : 50.4632568359375\n",
            "10/10 [==============================] - 0s 2ms/step\n",
            "19  MSE----> : 46.45803451538086\n",
            "10/10 [==============================] - 0s 1ms/step\n",
            "20  MSE----> : 48.47140121459961\n",
            "10/10 [==============================] - 0s 1ms/step\n",
            "21  MSE----> : 46.08159637451172\n",
            "10/10 [==============================] - 0s 1ms/step\n",
            "22  MSE----> : 46.49983596801758\n",
            "10/10 [==============================] - 0s 1ms/step\n",
            "23  MSE----> : 45.41271209716797\n",
            "10/10 [==============================] - 0s 1ms/step\n",
            "24  MSE----> : 46.29056930541992\n",
            "10/10 [==============================] - 0s 1ms/step\n",
            "25  MSE----> : 48.47274398803711\n",
            "10/10 [==============================] - 0s 1ms/step\n",
            "26  MSE----> : 47.80122756958008\n",
            "10/10 [==============================] - 0s 3ms/step\n",
            "27  MSE----> : 50.46095275878906\n",
            "10/10 [==============================] - 0s 1ms/step\n",
            "28  MSE----> : 45.05696105957031\n",
            "10/10 [==============================] - 0s 948us/step\n",
            "29  MSE----> : 52.760162353515625\n",
            "10/10 [==============================] - 0s 304us/step\n",
            "30  MSE----> : 52.84648513793945\n",
            "10/10 [==============================] - 0s 548us/step\n",
            "31  MSE----> : 52.241310119628906\n",
            "10/10 [==============================] - 0s 840us/step\n",
            "32  MSE----> : 46.62209701538086\n",
            "10/10 [==============================] - 0s 496us/step\n",
            "33  MSE----> : 48.82912826538086\n",
            "10/10 [==============================] - 0s 542us/step\n",
            "34  MSE----> : 49.278499603271484\n",
            "10/10 [==============================] - 0s 1ms/step\n",
            "35  MSE----> : 51.71710968017578\n",
            "10/10 [==============================] - 0s 2ms/step\n",
            "36  MSE----> : 52.6962890625\n",
            "10/10 [==============================] - 0s 1ms/step\n",
            "37  MSE----> : 52.75791549682617\n",
            "10/10 [==============================] - 0s 3ms/step\n",
            "38  MSE----> : 52.91584777832031\n",
            "10/10 [==============================] - 0s 2ms/step\n",
            "39  MSE----> : 47.50741195678711\n",
            "10/10 [==============================] - 0s 2ms/step\n",
            "40  MSE----> : 43.25662612915039\n",
            "10/10 [==============================] - 0s 2ms/step\n",
            "41  MSE----> : 53.07262420654297\n",
            "10/10 [==============================] - 0s 1ms/step\n",
            "42  MSE----> : 43.7453727722168\n",
            "10/10 [==============================] - 0s 1ms/step\n",
            "43  MSE----> : 45.941001892089844\n",
            "10/10 [==============================] - 0s 2ms/step\n",
            "44  MSE----> : 50.751426696777344\n",
            "10/10 [==============================] - 0s 1ms/step\n",
            "45  MSE----> : 52.271087646484375\n",
            "10/10 [==============================] - 0s 1ms/step\n",
            "46  MSE----> : 54.193965911865234\n",
            "10/10 [==============================] - 0s 1ms/step\n",
            "47  MSE----> : 48.4013786315918\n",
            "10/10 [==============================] - 0s 1ms/step\n",
            "48  MSE----> : 48.1169548034668\n",
            "10/10 [==============================] - 0s 548us/step\n",
            "49  MSE----> : 49.447784423828125\n",
            "10/10 [==============================] - 0s 280us/step\n",
            "50  MSE----> : 50.319271087646484\n",
            "10/10 [==============================] - 0s 2ms/step\n",
            "\n",
            "\n",
            "Mean and standard deviation of 50 mean squared errors without normalized data. \n",
            " Total number of epochs for each training is: 50\n",
            "\n"
          ]
        }
      ],
      "source": [
        "total_mean_squared_errors = 50\n",
        "epochs = 50\n",
        "mean_squared_errors = []\n",
        "for i in range(0, total_mean_squared_errors):\n",
        "    X_train, X_test, y_train, y_test = train_test_split(predictor, target, test_size=0.3, random_state=i)\n",
        "    model.fit(X_train, y_train, epochs=epochs, verbose=0)\n",
        "    MSE = model.evaluate(X_test, y_test, verbose=0)\n",
        "    print(str(i+1)+\"  MSE----> \"+\": \"+str(MSE))\n",
        "    y_pred = model.predict(X_test)\n",
        "    mean_square_error = mean_squared_error(y_test, y_pred)\n",
        "    mean_squared_errors.append(mean_square_error)\n",
        "\n",
        "print('\\n')\n",
        "print(\"Mean and standard deviation of \" +str(total_mean_squared_errors) + \" mean squared errors without normalized data. \\n Total number of epochs for each training is: \" +str(epochs) + \"\\n\")\n"
      ]
    },
    {
      "cell_type": "code",
      "execution_count": 54,
      "metadata": {},
      "outputs": [
        {
          "name": "stdout",
          "output_type": "stream",
          "text": [
            "Mean of MSE: 59.71536369871615\n",
            "Standard Deviation of MSE: 23.757619046937943\n"
          ]
        }
      ],
      "source": [
        "mean_squared_errors = np.array(mean_squared_errors)\n",
        "mean = np.mean(mean_squared_errors)\n",
        "standard_deviation = np.std(mean_squared_errors)\n",
        "print(\"Mean of MSE: \"+str(mean))\n",
        "print(\"Standard Deviation of MSE: \"+str(standard_deviation))"
      ]
    },
    {
      "cell_type": "markdown",
      "metadata": {
        "id": "-_EuWG2rkXp9"
      },
      "source": [
        "## Section: B\n",
        "Normalizing the predictor columns"
      ]
    },
    {
      "cell_type": "code",
      "execution_count": 55,
      "metadata": {
        "colab": {
          "base_uri": "https://localhost:8080/",
          "height": 206
        },
        "id": "siauRyJwkXJo",
        "outputId": "d2904b9b-fc0c-472a-af78-6ac87ee4c920"
      },
      "outputs": [
        {
          "data": {
            "text/html": [
              "<div>\n",
              "<style scoped>\n",
              "    .dataframe tbody tr th:only-of-type {\n",
              "        vertical-align: middle;\n",
              "    }\n",
              "\n",
              "    .dataframe tbody tr th {\n",
              "        vertical-align: top;\n",
              "    }\n",
              "\n",
              "    .dataframe thead th {\n",
              "        text-align: right;\n",
              "    }\n",
              "</style>\n",
              "<table border=\"1\" class=\"dataframe\">\n",
              "  <thead>\n",
              "    <tr style=\"text-align: right;\">\n",
              "      <th></th>\n",
              "      <th>Cement</th>\n",
              "      <th>Blast Furnace Slag</th>\n",
              "      <th>Fly Ash</th>\n",
              "      <th>Water</th>\n",
              "      <th>Superplasticizer</th>\n",
              "      <th>Coarse Aggregate</th>\n",
              "      <th>Fine Aggregate</th>\n",
              "      <th>Age</th>\n",
              "    </tr>\n",
              "  </thead>\n",
              "  <tbody>\n",
              "    <tr>\n",
              "      <th>0</th>\n",
              "      <td>2.476712</td>\n",
              "      <td>-0.856472</td>\n",
              "      <td>-0.846733</td>\n",
              "      <td>-0.916319</td>\n",
              "      <td>-0.620147</td>\n",
              "      <td>0.862735</td>\n",
              "      <td>-1.217079</td>\n",
              "      <td>-0.279597</td>\n",
              "    </tr>\n",
              "    <tr>\n",
              "      <th>1</th>\n",
              "      <td>2.476712</td>\n",
              "      <td>-0.856472</td>\n",
              "      <td>-0.846733</td>\n",
              "      <td>-0.916319</td>\n",
              "      <td>-0.620147</td>\n",
              "      <td>1.055651</td>\n",
              "      <td>-1.217079</td>\n",
              "      <td>-0.279597</td>\n",
              "    </tr>\n",
              "    <tr>\n",
              "      <th>2</th>\n",
              "      <td>0.491187</td>\n",
              "      <td>0.795140</td>\n",
              "      <td>-0.846733</td>\n",
              "      <td>2.174405</td>\n",
              "      <td>-1.038638</td>\n",
              "      <td>-0.526262</td>\n",
              "      <td>-2.239829</td>\n",
              "      <td>3.551340</td>\n",
              "    </tr>\n",
              "    <tr>\n",
              "      <th>3</th>\n",
              "      <td>0.491187</td>\n",
              "      <td>0.795140</td>\n",
              "      <td>-0.846733</td>\n",
              "      <td>2.174405</td>\n",
              "      <td>-1.038638</td>\n",
              "      <td>-0.526262</td>\n",
              "      <td>-2.239829</td>\n",
              "      <td>5.055221</td>\n",
              "    </tr>\n",
              "    <tr>\n",
              "      <th>4</th>\n",
              "      <td>-0.790075</td>\n",
              "      <td>0.678079</td>\n",
              "      <td>-0.846733</td>\n",
              "      <td>0.488555</td>\n",
              "      <td>-1.038638</td>\n",
              "      <td>0.070492</td>\n",
              "      <td>0.647569</td>\n",
              "      <td>4.976069</td>\n",
              "    </tr>\n",
              "  </tbody>\n",
              "</table>\n",
              "</div>"
            ],
            "text/plain": [
              "     Cement  Blast Furnace Slag   Fly Ash     Water  Superplasticizer  \\\n",
              "0  2.476712           -0.856472 -0.846733 -0.916319         -0.620147   \n",
              "1  2.476712           -0.856472 -0.846733 -0.916319         -0.620147   \n",
              "2  0.491187            0.795140 -0.846733  2.174405         -1.038638   \n",
              "3  0.491187            0.795140 -0.846733  2.174405         -1.038638   \n",
              "4 -0.790075            0.678079 -0.846733  0.488555         -1.038638   \n",
              "\n",
              "   Coarse Aggregate  Fine Aggregate       Age  \n",
              "0          0.862735       -1.217079 -0.279597  \n",
              "1          1.055651       -1.217079 -0.279597  \n",
              "2         -0.526262       -2.239829  3.551340  \n",
              "3         -0.526262       -2.239829  5.055221  \n",
              "4          0.070492        0.647569  4.976069  "
            ]
          },
          "execution_count": 55,
          "metadata": {},
          "output_type": "execute_result"
        }
      ],
      "source": [
        "predictor = (predictor-predictor.mean())/predictor.std()\n",
        "predictor.head()"
      ]
    },
    {
      "cell_type": "code",
      "execution_count": 57,
      "metadata": {},
      "outputs": [
        {
          "name": "stdout",
          "output_type": "stream",
          "text": [
            "1  MSE----> : 79.52852630615234\n",
            "10/10 [==============================] - 0s 1ms/step\n",
            "2  MSE----> : 76.4710464477539\n",
            "10/10 [==============================] - 0s 1ms/step\n",
            "3  MSE----> : 48.412837982177734\n",
            "10/10 [==============================] - 0s 1ms/step\n",
            "4  MSE----> : 48.42582321166992\n",
            "10/10 [==============================] - 0s 1ms/step\n",
            "5  MSE----> : 47.10138702392578\n",
            "10/10 [==============================] - 0s 446us/step\n",
            "6  MSE----> : 49.6601676940918\n",
            "10/10 [==============================] - 0s 2ms/step\n",
            "7  MSE----> : 52.81272888183594\n",
            "10/10 [==============================] - 0s 2ms/step\n",
            "8  MSE----> : 39.88995361328125\n",
            "10/10 [==============================] - 0s 2ms/step\n",
            "9  MSE----> : 42.17515563964844\n",
            "10/10 [==============================] - 0s 2ms/step\n",
            "10  MSE----> : 44.64072036743164\n",
            "10/10 [==============================] - 0s 2ms/step\n",
            "11  MSE----> : 40.66503143310547\n",
            "10/10 [==============================] - 0s 1ms/step\n",
            "12  MSE----> : 40.13742446899414\n",
            "10/10 [==============================] - 0s 1ms/step\n",
            "13  MSE----> : 47.93519973754883\n",
            "10/10 [==============================] - 0s 1ms/step\n",
            "14  MSE----> : 46.59550857543945\n",
            "10/10 [==============================] - 0s 1ms/step\n",
            "15  MSE----> : 39.5897102355957\n",
            "10/10 [==============================] - 0s 2ms/step\n",
            "16  MSE----> : 37.95564270019531\n",
            "10/10 [==============================] - 0s 1ms/step\n",
            "17  MSE----> : 43.086463928222656\n",
            "10/10 [==============================] - 0s 1ms/step\n",
            "18  MSE----> : 39.60966873168945\n",
            "10/10 [==============================] - 0s 3ms/step\n",
            "19  MSE----> : 41.14530563354492\n",
            "10/10 [==============================] - 0s 1ms/step\n",
            "20  MSE----> : 38.28767395019531\n",
            "10/10 [==============================] - 0s 2ms/step\n",
            "21  MSE----> : 37.34994888305664\n",
            "10/10 [==============================] - 0s 748us/step\n",
            "22  MSE----> : 37.00386047363281\n",
            "10/10 [==============================] - 0s 1ms/step\n",
            "23  MSE----> : 34.85578918457031\n",
            "10/10 [==============================] - 0s 2ms/step\n",
            "24  MSE----> : 37.305294036865234\n",
            "10/10 [==============================] - 0s 2ms/step\n",
            "25  MSE----> : 38.93832015991211\n",
            "10/10 [==============================] - 0s 1ms/step\n",
            "26  MSE----> : 39.18168640136719\n",
            "10/10 [==============================] - 0s 2ms/step\n",
            "27  MSE----> : 35.92436981201172\n",
            "10/10 [==============================] - 0s 1ms/step\n",
            "28  MSE----> : 33.79343795776367\n",
            "10/10 [==============================] - 0s 4ms/step\n",
            "29  MSE----> : 42.3372802734375\n",
            "10/10 [==============================] - 0s 2ms/step\n",
            "30  MSE----> : 40.35871887207031\n",
            "10/10 [==============================] - 0s 2ms/step\n",
            "31  MSE----> : 35.549888610839844\n",
            "10/10 [==============================] - 0s 2ms/step\n",
            "32  MSE----> : 35.60569763183594\n",
            "10/10 [==============================] - 0s 2ms/step\n",
            "33  MSE----> : 36.35890579223633\n",
            "10/10 [==============================] - 0s 2ms/step\n",
            "34  MSE----> : 36.729278564453125\n",
            "10/10 [==============================] - 0s 7ms/step\n",
            "35  MSE----> : 37.778221130371094\n",
            "10/10 [==============================] - 0s 2ms/step\n",
            "36  MSE----> : 42.04048538208008\n",
            "10/10 [==============================] - 0s 960us/step\n",
            "37  MSE----> : 34.22955322265625\n",
            "10/10 [==============================] - 0s 1ms/step\n",
            "38  MSE----> : 40.746299743652344\n",
            "10/10 [==============================] - 0s 888us/step\n",
            "39  MSE----> : 36.92817306518555\n",
            "10/10 [==============================] - 0s 1ms/step\n",
            "40  MSE----> : 31.615575790405273\n",
            "10/10 [==============================] - 0s 1ms/step\n",
            "41  MSE----> : 39.55415344238281\n",
            "10/10 [==============================] - 0s 1ms/step\n",
            "42  MSE----> : 32.080020904541016\n",
            "10/10 [==============================] - 0s 786us/step\n",
            "43  MSE----> : 36.88391876220703\n",
            "10/10 [==============================] - 0s 2ms/step\n",
            "44  MSE----> : 43.441463470458984\n",
            "10/10 [==============================] - 0s 3ms/step\n",
            "45  MSE----> : 39.73988723754883\n",
            "10/10 [==============================] - 0s 1ms/step\n",
            "46  MSE----> : 37.94980239868164\n",
            "10/10 [==============================] - 0s 1ms/step\n",
            "47  MSE----> : 34.40718078613281\n",
            "10/10 [==============================] - 0s 860us/step\n",
            "48  MSE----> : 38.536041259765625\n",
            "10/10 [==============================] - 0s 1ms/step\n",
            "49  MSE----> : 38.84431076049805\n",
            "10/10 [==============================] - 0s 2ms/step\n",
            "50  MSE----> : 39.767333984375\n",
            "10/10 [==============================] - 0s 1ms/step\n",
            "\n",
            "\n",
            "Mean and standard deviation of 50 mean squared errors with normalized data. \n",
            " Total number of epochs for each training is: 50\n",
            "\n"
          ]
        }
      ],
      "source": [
        "total_mean_squared_errors = 50\n",
        "epochs = 50\n",
        "mean_squared_errors = []\n",
        "for i in range(0, total_mean_squared_errors):\n",
        "    X_train, X_test, y_train, y_test = train_test_split(predictor, target, test_size=0.3, random_state=i)\n",
        "    model.fit(X_train, y_train, epochs=epochs, verbose=0)\n",
        "    MSE = model.evaluate(X_test, y_test, verbose=0)\n",
        "    print(str(i+1)+\"  MSE----> \"+\": \"+str(MSE))\n",
        "    y_pred = model.predict(X_test)\n",
        "    mean_square_error = mean_squared_error(y_test, y_pred)\n",
        "    mean_squared_errors.append(mean_square_error)\n",
        "\n",
        "print('\\n')\n",
        "print(\"Mean and standard deviation of \" +str(total_mean_squared_errors) + \" mean squared errors with normalized data. \\n Total number of epochs for each training is: \" +str(epochs) + \"\\n\")\n"
      ]
    },
    {
      "cell_type": "code",
      "execution_count": 58,
      "metadata": {},
      "outputs": [
        {
          "name": "stdout",
          "output_type": "stream",
          "text": [
            "Mean of MSE: 41.39921770945478\n",
            "Standard Deviation of MSE: 8.737825521367125\n"
          ]
        }
      ],
      "source": [
        "mean_squared_errors = np.array(mean_squared_errors)\n",
        "mean = np.mean(mean_squared_errors)\n",
        "standard_deviation = np.std(mean_squared_errors)\n",
        "print(\"Mean of MSE: \"+str(mean))\n",
        "print(\"Standard Deviation of MSE: \"+str(standard_deviation))"
      ]
    },
    {
      "cell_type": "markdown",
      "metadata": {},
      "source": [
        "The mean MSE decreased and the standard deviation for MSEs also decreased. (Compared to A)"
      ]
    },
    {
      "cell_type": "markdown",
      "metadata": {
        "id": "MTOscmZ9qYWY"
      },
      "source": [
        "## Section: C\n",
        "Setting the epoch count to 100 for training"
      ]
    },
    {
      "cell_type": "code",
      "execution_count": 59,
      "metadata": {},
      "outputs": [
        {
          "name": "stdout",
          "output_type": "stream",
          "text": [
            "1  MSE----> : 38.066932678222656\n",
            "10/10 [==============================] - 0s 1ms/step\n",
            "2  MSE----> : 40.48167037963867\n",
            "10/10 [==============================] - 0s 2ms/step\n",
            "3  MSE----> : 32.090457916259766\n",
            "10/10 [==============================] - 0s 1ms/step\n",
            "4  MSE----> : 36.46985626220703\n",
            "10/10 [==============================] - 0s 1ms/step\n",
            "5  MSE----> : 35.02134704589844\n",
            "10/10 [==============================] - 0s 1ms/step\n",
            "6  MSE----> : 36.87360763549805\n",
            "10/10 [==============================] - 0s 1ms/step\n",
            "7  MSE----> : 41.59101486206055\n",
            "10/10 [==============================] - 0s 1ms/step\n",
            "8  MSE----> : 34.88772201538086\n",
            "10/10 [==============================] - 0s 751us/step\n",
            "9  MSE----> : 34.74728012084961\n",
            "10/10 [==============================] - 0s 1ms/step\n",
            "10  MSE----> : 35.57420349121094\n",
            "10/10 [==============================] - 0s 2ms/step\n",
            "11  MSE----> : 34.30188751220703\n",
            "10/10 [==============================] - 0s 1ms/step\n",
            "12  MSE----> : 32.64226531982422\n",
            "10/10 [==============================] - 0s 1ms/step\n",
            "13  MSE----> : 38.64604187011719\n",
            "10/10 [==============================] - 0s 1ms/step\n",
            "14  MSE----> : 38.44384765625\n",
            "10/10 [==============================] - 0s 1ms/step\n",
            "15  MSE----> : 32.81184005737305\n",
            "10/10 [==============================] - 0s 1ms/step\n",
            "16  MSE----> : 30.000192642211914\n",
            "10/10 [==============================] - 0s 944us/step\n",
            "17  MSE----> : 37.12467575073242\n",
            "10/10 [==============================] - 0s 1ms/step\n",
            "18  MSE----> : 35.12844467163086\n",
            "10/10 [==============================] - 0s 1ms/step\n",
            "19  MSE----> : 33.73755645751953\n",
            "10/10 [==============================] - 0s 2ms/step\n",
            "20  MSE----> : 32.495399475097656\n",
            "10/10 [==============================] - 0s 1ms/step\n",
            "21  MSE----> : 33.80817794799805\n",
            "10/10 [==============================] - 0s 1ms/step\n",
            "22  MSE----> : 32.87778854370117\n",
            "10/10 [==============================] - 0s 1ms/step\n",
            "23  MSE----> : 32.313289642333984\n",
            "10/10 [==============================] - 0s 1ms/step\n",
            "24  MSE----> : 30.538532257080078\n",
            "10/10 [==============================] - 0s 2ms/step\n",
            "25  MSE----> : 36.14304733276367\n",
            "10/10 [==============================] - 0s 506us/step\n",
            "26  MSE----> : 34.79723358154297\n",
            "10/10 [==============================] - 0s 2ms/step\n",
            "27  MSE----> : 31.642187118530273\n",
            "10/10 [==============================] - 0s 2ms/step\n",
            "28  MSE----> : 30.477514266967773\n",
            "10/10 [==============================] - 0s 2ms/step\n",
            "29  MSE----> : 38.24224090576172\n",
            "10/10 [==============================] - 0s 2ms/step\n",
            "30  MSE----> : 39.144317626953125\n",
            "10/10 [==============================] - 0s 1ms/step\n",
            "31  MSE----> : 32.48029327392578\n",
            "10/10 [==============================] - 0s 2ms/step\n",
            "32  MSE----> : 32.52379608154297\n",
            "10/10 [==============================] - 0s 1ms/step\n",
            "33  MSE----> : 31.55994987487793\n",
            "10/10 [==============================] - 0s 2ms/step\n",
            "34  MSE----> : 32.639774322509766\n",
            "10/10 [==============================] - 0s 1ms/step\n",
            "35  MSE----> : 34.418827056884766\n",
            "10/10 [==============================] - 0s 2ms/step\n",
            "36  MSE----> : 39.371952056884766\n",
            "10/10 [==============================] - 0s 2ms/step\n",
            "37  MSE----> : 32.965675354003906\n",
            "10/10 [==============================] - 0s 1ms/step\n",
            "38  MSE----> : 38.2525520324707\n",
            "10/10 [==============================] - 0s 2ms/step\n",
            "39  MSE----> : 36.61477279663086\n",
            "10/10 [==============================] - 0s 2ms/step\n",
            "40  MSE----> : 29.586708068847656\n",
            "10/10 [==============================] - 0s 2ms/step\n",
            "41  MSE----> : 37.393856048583984\n",
            "10/10 [==============================] - 0s 3ms/step\n",
            "42  MSE----> : 30.766826629638672\n",
            "10/10 [==============================] - 0s 239us/step\n",
            "43  MSE----> : 33.75103759765625\n",
            "10/10 [==============================] - 0s 924us/step\n",
            "44  MSE----> : 40.59294891357422\n",
            "10/10 [==============================] - 0s 1ms/step\n",
            "45  MSE----> : 37.33089828491211\n",
            "10/10 [==============================] - 0s 632us/step\n",
            "46  MSE----> : 35.69881820678711\n",
            "10/10 [==============================] - 0s 792us/step\n",
            "47  MSE----> : 33.06447219848633\n",
            "10/10 [==============================] - 0s 1ms/step\n",
            "48  MSE----> : 36.934959411621094\n",
            "10/10 [==============================] - 0s 1ms/step\n",
            "49  MSE----> : 36.76466751098633\n",
            "10/10 [==============================] - 0s 1ms/step\n",
            "50  MSE----> : 38.325191497802734\n",
            "10/10 [==============================] - 0s 1ms/step\n",
            "\n",
            "\n",
            "Mean and standard deviation of 50 mean squared errors with normalized data. \n",
            " Total number of epochs for each training is: 100\n",
            "\n"
          ]
        }
      ],
      "source": [
        "total_mean_squared_errors = 50\n",
        "epochs = 100\n",
        "mean_squared_errors = []\n",
        "for i in range(0, total_mean_squared_errors):\n",
        "    X_train, X_test, y_train, y_test = train_test_split(predictor, target, test_size=0.3, random_state=i)\n",
        "    model.fit(X_train, y_train, epochs=epochs, verbose=0)\n",
        "    MSE = model.evaluate(X_test, y_test, verbose=0)\n",
        "    print(str(i+1)+\"  MSE----> \"+\": \"+str(MSE))\n",
        "    y_pred = model.predict(X_test)\n",
        "    mean_square_error = mean_squared_error(y_test, y_pred)\n",
        "    mean_squared_errors.append(mean_square_error)\n",
        "\n",
        "print('\\n')\n",
        "print(\"Mean and standard deviation of \" +str(total_mean_squared_errors) + \" mean squared errors with normalized data. \\n Total number of epochs for each training is: \" +str(epochs) + \"\\n\")\n"
      ]
    },
    {
      "cell_type": "code",
      "execution_count": 60,
      "metadata": {},
      "outputs": [
        {
          "name": "stdout",
          "output_type": "stream",
          "text": [
            "Mean of MSE: 35.043170580454856\n",
            "Standard Deviation of MSE: 2.9818785004348154\n"
          ]
        }
      ],
      "source": [
        "mean_squared_errors = np.array(mean_squared_errors)\n",
        "mean = np.mean(mean_squared_errors)\n",
        "standard_deviation = np.std(mean_squared_errors)\n",
        "print(\"Mean of MSE: \"+str(mean))\n",
        "print(\"Standard Deviation of MSE: \"+str(standard_deviation))"
      ]
    },
    {
      "cell_type": "markdown",
      "metadata": {},
      "source": [
        "The mean MSE decreased and the standard deviation for MSEs also decreased. (Compared to B)"
      ]
    },
    {
      "cell_type": "markdown",
      "metadata": {
        "id": "pYVJReQjt61U"
      },
      "source": [
        "## Section: D\n",
        "Neural Network with three Hidden layers, each of 10 nodes and ReLU activation Function"
      ]
    },
    {
      "cell_type": "code",
      "execution_count": 62,
      "metadata": {
        "id": "zqUacwqJt1FC"
      },
      "outputs": [],
      "source": [
        "def regression_model():\n",
        "  #creating the model\n",
        "  model = Sequential()\n",
        "  #first hidden layer\n",
        "  model.add(Dense(10, activation = 'relu', input_shape = (n_cols,)))\n",
        "  #second hidden layer\n",
        "  model.add(Dense(10, activation = 'relu'))\n",
        "  #third hidden layer\n",
        "  model.add(Dense(10, activation = 'relu'))\n",
        "  #output layer\n",
        "  model.add(Dense(1))\n",
        "  #compiling the model\n",
        "  model.compile(optimizer = 'adam', loss = 'mean_squared_error')\n",
        "  return model"
      ]
    },
    {
      "cell_type": "code",
      "execution_count": 63,
      "metadata": {
        "id": "WL6SypOYuZ4s"
      },
      "outputs": [],
      "source": [
        "model = regression_model()"
      ]
    },
    {
      "cell_type": "code",
      "execution_count": 64,
      "metadata": {},
      "outputs": [
        {
          "name": "stdout",
          "output_type": "stream",
          "text": [
            "1  MSE----> : 108.52684020996094\n",
            "10/10 [==============================] - 0s 2ms/step\n",
            "2  MSE----> : 122.0113525390625\n",
            "10/10 [==============================] - 0s 1ms/step\n",
            "3  MSE----> : 77.81664276123047\n",
            "10/10 [==============================] - 0s 2ms/step\n",
            "4  MSE----> : 49.43354797363281\n",
            "10/10 [==============================] - 0s 1ms/step\n",
            "5  MSE----> : 42.046810150146484\n",
            "10/10 [==============================] - 0s 2ms/step\n",
            "6  MSE----> : 40.058616638183594\n",
            "10/10 [==============================] - 0s 1ms/step\n",
            "7  MSE----> : 43.13424301147461\n",
            "10/10 [==============================] - 0s 1ms/step\n",
            "8  MSE----> : 34.60529708862305\n",
            "10/10 [==============================] - 0s 3ms/step\n",
            "9  MSE----> : 37.999759674072266\n",
            "10/10 [==============================] - 0s 2ms/step\n",
            "10  MSE----> : 35.698116302490234\n",
            "10/10 [==============================] - 0s 2ms/step\n",
            "11  MSE----> : 32.301570892333984\n",
            "10/10 [==============================] - 0s 1ms/step\n",
            "12  MSE----> : 27.91820526123047\n",
            "10/10 [==============================] - 0s 1ms/step\n",
            "13  MSE----> : 36.882965087890625\n",
            "10/10 [==============================] - 0s 1ms/step\n",
            "14  MSE----> : 32.817501068115234\n",
            "10/10 [==============================] - 0s 2ms/step\n",
            "15  MSE----> : 31.024967193603516\n",
            "10/10 [==============================] - 0s 2ms/step\n",
            "16  MSE----> : 22.7012996673584\n",
            "10/10 [==============================] - 0s 2ms/step\n",
            "17  MSE----> : 25.411169052124023\n",
            "10/10 [==============================] - 0s 2ms/step\n",
            "18  MSE----> : 27.6607723236084\n",
            "10/10 [==============================] - 0s 3ms/step\n",
            "19  MSE----> : 25.040067672729492\n",
            "10/10 [==============================] - 0s 2ms/step\n",
            "20  MSE----> : 31.52724266052246\n",
            "10/10 [==============================] - 0s 1ms/step\n",
            "21  MSE----> : 28.292770385742188\n",
            "10/10 [==============================] - 0s 2ms/step\n",
            "22  MSE----> : 27.69921875\n",
            "10/10 [==============================] - 0s 2ms/step\n",
            "23  MSE----> : 24.697546005249023\n",
            "10/10 [==============================] - 0s 2ms/step\n",
            "24  MSE----> : 25.289648056030273\n",
            "10/10 [==============================] - 0s 2ms/step\n",
            "25  MSE----> : 26.48821258544922\n",
            "10/10 [==============================] - 0s 2ms/step\n",
            "26  MSE----> : 30.124380111694336\n",
            "10/10 [==============================] - 0s 363us/step\n",
            "27  MSE----> : 27.40320587158203\n",
            "10/10 [==============================] - 0s 530us/step\n",
            "28  MSE----> : 25.86366844177246\n",
            "10/10 [==============================] - 0s 1ms/step\n",
            "29  MSE----> : 30.0322322845459\n",
            "10/10 [==============================] - 0s 2ms/step\n",
            "30  MSE----> : 27.920869827270508\n",
            "10/10 [==============================] - 0s 2ms/step\n",
            "31  MSE----> : 22.49782943725586\n",
            "10/10 [==============================] - 0s 3ms/step\n",
            "32  MSE----> : 19.373300552368164\n",
            "10/10 [==============================] - 0s 1ms/step\n",
            "33  MSE----> : 19.7830810546875\n",
            "10/10 [==============================] - 0s 2ms/step\n",
            "34  MSE----> : 26.359458923339844\n",
            "10/10 [==============================] - 0s 3ms/step\n",
            "35  MSE----> : 25.570388793945312\n",
            "10/10 [==============================] - 0s 2ms/step\n",
            "36  MSE----> : 28.092239379882812\n",
            "10/10 [==============================] - 0s 2ms/step\n",
            "37  MSE----> : 20.266300201416016\n",
            "10/10 [==============================] - 0s 2ms/step\n",
            "38  MSE----> : 25.696367263793945\n",
            "10/10 [==============================] - 0s 638us/step\n",
            "39  MSE----> : 23.012746810913086\n",
            "10/10 [==============================] - 0s 2ms/step\n",
            "40  MSE----> : 20.805997848510742\n",
            "10/10 [==============================] - 0s 2ms/step\n",
            "41  MSE----> : 25.555356979370117\n",
            "10/10 [==============================] - 0s 2ms/step\n",
            "42  MSE----> : 18.784738540649414\n",
            "10/10 [==============================] - 0s 2ms/step\n",
            "43  MSE----> : 23.64150619506836\n",
            "10/10 [==============================] - 0s 1ms/step\n",
            "44  MSE----> : 24.03046226501465\n",
            "10/10 [==============================] - 0s 3ms/step\n",
            "45  MSE----> : 26.480833053588867\n",
            "10/10 [==============================] - 0s 2ms/step\n",
            "46  MSE----> : 21.735502243041992\n",
            "10/10 [==============================] - 0s 2ms/step\n",
            "47  MSE----> : 23.073375701904297\n",
            "10/10 [==============================] - 0s 2ms/step\n",
            "48  MSE----> : 21.188426971435547\n",
            "10/10 [==============================] - 0s 2ms/step\n",
            "49  MSE----> : 21.96980094909668\n",
            "10/10 [==============================] - 0s 4ms/step\n",
            "50  MSE----> : 22.221534729003906\n",
            "10/10 [==============================] - 0s 2ms/step\n",
            "\n",
            "\n",
            "Mean and standard deviation of 50 mean squared errors with normalized data. \n",
            " Total number of epochs for each training is: 100\n",
            "\n"
          ]
        }
      ],
      "source": [
        "total_mean_squared_errors = 50\n",
        "epochs = 100\n",
        "mean_squared_errors = []\n",
        "for i in range(0, total_mean_squared_errors):\n",
        "    X_train, X_test, y_train, y_test = train_test_split(predictor, target, test_size=0.3, random_state=i)\n",
        "    model.fit(X_train, y_train, epochs=epochs, verbose=0)\n",
        "    MSE = model.evaluate(X_test, y_test, verbose=0)\n",
        "    print(str(i+1)+\"  MSE----> \"+\": \"+str(MSE))\n",
        "    y_pred = model.predict(X_test)\n",
        "    mean_square_error = mean_squared_error(y_test, y_pred)\n",
        "    mean_squared_errors.append(mean_square_error)\n",
        "\n",
        "print('\\n')\n",
        "print(\"Mean and standard deviation of \" +str(total_mean_squared_errors) + \" mean squared errors with normalized data. \\n Total number of epochs for each training is: \" +str(epochs) + \"\\n\")"
      ]
    },
    {
      "cell_type": "code",
      "execution_count": 65,
      "metadata": {},
      "outputs": [
        {
          "name": "stdout",
          "output_type": "stream",
          "text": [
            "Mean of MSE: 32.37135933885061\n",
            "Standard Deviation of MSE: 19.459372058911462\n"
          ]
        }
      ],
      "source": [
        "mean_squared_errors = np.array(mean_squared_errors)\n",
        "mean = np.mean(mean_squared_errors)\n",
        "standard_deviation = np.std(mean_squared_errors)\n",
        "print(\"Mean of MSE: \"+str(mean))\n",
        "print(\"Standard Deviation of MSE: \"+str(standard_deviation))"
      ]
    },
    {
      "cell_type": "markdown",
      "metadata": {},
      "source": [
        "The mean MSE decreased and the standard deviation for MSEs also decreased. (Compared to B)"
      ]
    },
    {
      "cell_type": "markdown",
      "metadata": {
        "id": "IWRz6s79wqmR"
      },
      "source": [
        "## Comparing Mean Squared Error in all the 4 sections"
      ]
    },
    {
      "cell_type": "code",
      "execution_count": 66,
      "metadata": {
        "colab": {
          "base_uri": "https://localhost:8080/",
          "height": 489
        },
        "id": "6x7A4UsNwvdd",
        "outputId": "5b52c291-f5c1-45b4-eacc-6d03b6ec3beb"
      },
      "outputs": [
        {
          "data": {
            "text/plain": [
              "Text(0, 0.5, 'Mean Squared Error')"
            ]
          },
          "execution_count": 66,
          "metadata": {},
          "output_type": "execute_result"
        },
        {
          "data": {
            "image/png": "[encoded data removed]",
            "text/plain": [
              "<Figure size 640x480 with 1 Axes>"
            ]
          },
          "metadata": {},
          "output_type": "display_data"
        }
      ],
      "source": [
        "import seaborn as sns\n",
        "import matplotlib.pyplot as plt\n",
        "sns.pointplot(x = ['Section A', 'Section B', 'Section C', 'Section D'], y = [59.71536369871615,41.39921770945478,35.043170580454856,32.37135933885061], color = '#6495ed').set_title('Mean Squared Error')\n",
        "plt.xlabel('Section')\n",
        "plt.ylabel('Mean Squared Error')"
      ]
    }
  ],
  "metadata": {
    "colab": {
      "provenance": []
    },
    "kernelspec": {
      "display_name": "Python 3",
      "name": "python3"
    },
    "language_info": {
      "codemirror_mode": {
        "name": "ipython",
        "version": 3
      },
      "file_extension": ".py",
      "mimetype": "text/x-python",
      "name": "python",
      "nbconvert_exporter": "python",
      "pygments_lexer": "ipython3",
      "version": "3.11.3"
    }
  },
  "nbformat": 4,
  "nbformat_minor": 0
}
